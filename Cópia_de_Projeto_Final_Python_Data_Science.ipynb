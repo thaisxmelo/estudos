{
  "nbformat": 4,
  "nbformat_minor": 0,
  "metadata": {
    "colab": {
      "provenance": [],
      "include_colab_link": true
    },
    "kernelspec": {
      "name": "python3",
      "display_name": "Python 3"
    },
    "language_info": {
      "name": "python"
    }
  },
  "cells": [
    {
      "cell_type": "markdown",
      "metadata": {
        "id": "view-in-github",
        "colab_type": "text"
      },
      "source": [
        "<a href=\"https://colab.research.google.com/github/thaisxmelo/estudos/blob/main/C%C3%B3pia_de_Projeto_Final_Python_Data_Science.ipynb\" target=\"_parent\"><img src=\"https://colab.research.google.com/assets/colab-badge.svg\" alt=\"Open In Colab\"/></a>"
      ]
    },
    {
      "cell_type": "markdown",
      "source": [
        "# Python para Data Science\n",
        "\n",
        "Notebook para o curso de Python para Data Science publicado na plataforma da [Alura](https://www.alura.com.br/)"
      ],
      "metadata": {
        "id": "lQx6Mmv0OJyT"
      }
    },
    {
      "cell_type": "markdown",
      "source": [
        "# Introdução ao Python\n",
        "\n",
        "Vamos conhecer o Python, nosso ambiente de estudo e também faremos nosso primeiro código nessa linguagem!"
      ],
      "metadata": {
        "id": "7SiB6JIpYKmY"
      }
    },
    {
      "cell_type": "markdown",
      "source": [
        "## Google Colaboratory\n",
        "\n",
        "Já aprendemos o que é o [Python](https://www.python.org/) agora vamos aprender a utilzar o [Google Colaboratory](https://colab.research.google.com/) e programar em um notebook.\n",
        "\n",
        "Vamos testar algumas funções dessa ferramenta."
      ],
      "metadata": {
        "id": "Yugfb3fCOYY9"
      }
    },
    {
      "cell_type": "markdown",
      "source": [
        " **`>>> Use essa célula para mover <<<`**"
      ],
      "metadata": {
        "id": "2iUHQsJasJAk"
      }
    },
    {
      "cell_type": "code",
      "source": [
        "10"
      ],
      "metadata": {
        "id": "QlxMzVQ9r8g2",
        "colab": {
          "base_uri": "https://localhost:8080/"
        },
        "outputId": "fe087f45-c536-46d1-80ab-0567ce58a261"
      },
      "execution_count": null,
      "outputs": [
        {
          "output_type": "execute_result",
          "data": {
            "text/plain": [
              "10"
            ]
          },
          "metadata": {},
          "execution_count": 1
        }
      ]
    },
    {
      "cell_type": "markdown",
      "source": [
        "## Olá mundo!\n",
        "\n",
        "Vamso conhecer mais como funciona o ambiente interativo de um notebook. Para isso vamos executar nosso primeiro comando em Python: [`print()`](https://docs.python.org/3/library/functions.html#print)"
      ],
      "metadata": {
        "id": "aLSFP2V7XTfe"
      }
    },
    {
      "cell_type": "code",
      "source": [
        "print('Olá mundo!')"
      ],
      "metadata": {
        "id": "bJ5c5x5gr_Z5",
        "colab": {
          "base_uri": "https://localhost:8080/"
        },
        "outputId": "6bd6e358-f784-41bc-8a27-856946d3975e"
      },
      "execution_count": null,
      "outputs": [
        {
          "output_type": "stream",
          "name": "stdout",
          "text": [
            "Olá mundo!\n"
          ]
        }
      ]
    },
    {
      "cell_type": "code",
      "source": [
        "print(10)"
      ],
      "metadata": {
        "id": "ARO5xM3psBZZ",
        "colab": {
          "base_uri": "https://localhost:8080/"
        },
        "outputId": "82aae4dc-f4d3-4402-daa6-506a86ef1fa1"
      },
      "execution_count": null,
      "outputs": [
        {
          "output_type": "stream",
          "name": "stdout",
          "text": [
            "10\n"
          ]
        }
      ]
    },
    {
      "cell_type": "code",
      "source": [
        "print('Mirla',23)"
      ],
      "metadata": {
        "id": "hdVBenEIsBOw",
        "colab": {
          "base_uri": "https://localhost:8080/"
        },
        "outputId": "7b2c5764-9ac7-48cf-e1ad-5c2f76b560c9"
      },
      "execution_count": null,
      "outputs": [
        {
          "output_type": "stream",
          "name": "stdout",
          "text": [
            "Mirla 23\n"
          ]
        }
      ]
    },
    {
      "cell_type": "markdown",
      "source": [
        "# Manipulando dados\n",
        "\n",
        "Vamos aprender sobre as variáveis no python, como elas são declaradas e utilizadas além de conhecer outros comandos dentro do Python. :D"
      ],
      "metadata": {
        "id": "iP8uWQmFYFRs"
      }
    },
    {
      "cell_type": "markdown",
      "source": [
        "## Variáveis\n",
        "\n",
        "Em Data Science nós trabalhamos com vários dados e informações, então é essencial saber trabalhar com variáveis."
      ],
      "metadata": {
        "id": "sLNVmnTbag1Z"
      }
    },
    {
      "cell_type": "markdown",
      "source": [
        "Criamos uma variável no python através da atribuição de um valor a ela.\n",
        "\n",
        "Para fazer isso, colocamos o nome da variável um sinal de igual (`=`) e o valor que queremos atribuir"
      ],
      "metadata": {
        "id": "lsCY0wahAbf6"
      }
    },
    {
      "cell_type": "code",
      "source": [
        "idade = 5"
      ],
      "metadata": {
        "id": "HKuyZ08KAT4P"
      },
      "execution_count": null,
      "outputs": []
    },
    {
      "cell_type": "code",
      "source": [
        "print(idade)"
      ],
      "metadata": {
        "id": "REfGSTfAslL0",
        "colab": {
          "base_uri": "https://localhost:8080/"
        },
        "outputId": "c8b48090-3a97-4990-b18d-8caefe4b2f19"
      },
      "execution_count": null,
      "outputs": [
        {
          "output_type": "stream",
          "name": "stdout",
          "text": [
            "5\n"
          ]
        }
      ]
    },
    {
      "cell_type": "code",
      "source": [
        "idade = 10\n",
        "print(idade)"
      ],
      "metadata": {
        "id": "1AWO5GAspx1L",
        "colab": {
          "base_uri": "https://localhost:8080/"
        },
        "outputId": "db0b57a7-78fe-41a9-b69f-e2818f561f34"
      },
      "execution_count": null,
      "outputs": [
        {
          "output_type": "stream",
          "name": "stdout",
          "text": [
            "10\n"
          ]
        }
      ]
    },
    {
      "cell_type": "code",
      "source": [
        "idade = 15\n",
        "idade"
      ],
      "metadata": {
        "id": "YwJXL8uQpxtw",
        "colab": {
          "base_uri": "https://localhost:8080/"
        },
        "outputId": "7add26e4-a297-4b8e-a179-2e154c527ed0"
      },
      "execution_count": null,
      "outputs": [
        {
          "output_type": "execute_result",
          "data": {
            "text/plain": [
              "15"
            ]
          },
          "metadata": {},
          "execution_count": 4
        }
      ]
    },
    {
      "cell_type": "code",
      "source": [
        "nome = 'Gabriel'\n",
        "nome"
      ],
      "metadata": {
        "id": "X2LltFDAsofy",
        "colab": {
          "base_uri": "https://localhost:8080/",
          "height": 35
        },
        "outputId": "80a07883-a32f-4e49-c622-5aa490fc9c98"
      },
      "execution_count": null,
      "outputs": [
        {
          "output_type": "execute_result",
          "data": {
            "text/plain": [
              "'Gabriel'"
            ],
            "application/vnd.google.colaboratory.intrinsic+json": {
              "type": "string"
            }
          },
          "metadata": {},
          "execution_count": 5
        }
      ]
    },
    {
      "cell_type": "markdown",
      "source": [
        "Nomes que **não** podemos definir para variáveis:\n",
        "\n",
        "- **Nomes que começam com números**\n",
        "  - Exemplos: `10_notas`, `2_nomes_casa`, etc.\n",
        "- **Palavras separada por espaço**\n",
        "  - Exemplos: `Nome escola`, `notas estudantes`, etc.\n",
        "- **Nomes de funções do Python**\n",
        "  - Exemplos: `print`, `type`, etc."
      ],
      "metadata": {
        "id": "om2N0jHKAzwL"
      }
    },
    {
      "cell_type": "markdown",
      "source": [
        "> Letras maiúsculas e minúsculas vão gerar diferentes variáveis. A varíavel `idade` é diferente de `Idade` que por sua vez também é diferente de `IDADE`:\n",
        "``` Python\n",
        "idade = 1\n",
        "Idade = 2\n",
        "IDADE = 3\n",
        "_idade = 4\n",
        "_idade_ = 5\n",
        "print(idade, Idade, IDADE, _idade, _idade_)\n",
        "1 2 3 4 5\n",
        "```"
      ],
      "metadata": {
        "id": "A19vY2GVMujB"
      }
    },
    {
      "cell_type": "markdown",
      "source": [
        "## Tipos de variáveis\n",
        "\n",
        "Cada variável contém uma classe especifica quanto ao tipo de objeto que ela está se referenciando. Essas classes vão ser diferentes a partir do tipo de dado que nós atribuimos a uma variável.\n",
        "\n",
        "Para saber a classe de cada elemento usamos a função [`type()`](https://docs.python.org/3/library/functions.html#type)"
      ],
      "metadata": {
        "id": "UqhzuBhBHsps"
      }
    },
    {
      "cell_type": "code",
      "source": [
        "i = 5\n",
        "type(i)"
      ],
      "metadata": {
        "id": "rcTig6T0s0cD",
        "colab": {
          "base_uri": "https://localhost:8080/"
        },
        "outputId": "b171ebc0-9745-451e-a3ea-b11c6cfe1865"
      },
      "execution_count": null,
      "outputs": [
        {
          "output_type": "execute_result",
          "data": {
            "text/plain": [
              "int"
            ]
          },
          "metadata": {},
          "execution_count": 6
        }
      ]
    },
    {
      "cell_type": "code",
      "source": [
        "f = 9.8\n",
        "type(f)"
      ],
      "metadata": {
        "id": "Hzxl4ziTp2UR",
        "colab": {
          "base_uri": "https://localhost:8080/"
        },
        "outputId": "7aa38112-9e29-4d6b-b576-256c88238880"
      },
      "execution_count": null,
      "outputs": [
        {
          "output_type": "execute_result",
          "data": {
            "text/plain": [
              "float"
            ]
          },
          "metadata": {},
          "execution_count": 7
        }
      ]
    },
    {
      "cell_type": "code",
      "source": [
        "s = 'Mirla'\n",
        "type(s)"
      ],
      "metadata": {
        "id": "rc93oYlmp4Pg",
        "colab": {
          "base_uri": "https://localhost:8080/"
        },
        "outputId": "e14b4238-ab86-4204-d4b1-16a31d6e97df"
      },
      "execution_count": null,
      "outputs": [
        {
          "output_type": "execute_result",
          "data": {
            "text/plain": [
              "str"
            ]
          },
          "metadata": {},
          "execution_count": 8
        }
      ]
    },
    {
      "cell_type": "code",
      "source": [
        "b = True\n",
        "type(b)"
      ],
      "metadata": {
        "id": "jf_XhutSp4HI",
        "colab": {
          "base_uri": "https://localhost:8080/"
        },
        "outputId": "c85d9789-a3ef-496b-dc9f-4724fbb5ba03"
      },
      "execution_count": null,
      "outputs": [
        {
          "output_type": "execute_result",
          "data": {
            "text/plain": [
              "bool"
            ]
          },
          "metadata": {},
          "execution_count": 9
        }
      ]
    },
    {
      "cell_type": "markdown",
      "source": [
        "Em um conjunto de dados escolares podemos ter vários tipos de informações. Digamos que tenhamos acesso à ficha de dados do aluno *Frabicio Daniel* como transformamos ela em variáveis no Python?\n",
        "\n",
        "#### Ficha:\n",
        "\n",
        "- Nome: Fabricio Daniel\n",
        "- Idade: 15 anos\n",
        "- Media do semestre: 8,45\n",
        "- Situação de aprovação: Verdadeira (aprovado)"
      ],
      "metadata": {
        "id": "O-FxDumfWu0C"
      }
    },
    {
      "cell_type": "code",
      "source": [
        "nome_aluno = 'Fabricio Daniel'\n",
        "idade_aluno = 15\n",
        "media_aluno = 8.45\n",
        "situacao_aprovado = True\n",
        "print(nome_aluno,idade_aluno,media_aluno,situacao_aprovado)"
      ],
      "metadata": {
        "colab": {
          "base_uri": "https://localhost:8080/"
        },
        "id": "Z0kvl5mivYFK",
        "outputId": "07885fd4-ba97-4ed6-e6e4-a25c36eee896"
      },
      "execution_count": null,
      "outputs": [
        {
          "output_type": "stream",
          "name": "stdout",
          "text": [
            "Fabricio Daniel 15 8.45 True\n"
          ]
        }
      ]
    },
    {
      "cell_type": "markdown",
      "source": [
        "## Variáveis numéricas\n",
        "\n",
        "Entre os tipos de dados numéricos vamos nos focar no tipo `inteiro` e `float`."
      ],
      "metadata": {
        "id": "KFq_8Sxf-OG0"
      }
    },
    {
      "cell_type": "markdown",
      "source": [
        "Temos uma tabela de informação de empregos quanto ao cargo, quantidade de pessoas empregadas e o salário correspondente:\n",
        "\n",
        "|Cargo | Quantidade | Salário|\n",
        "|---|---|---|\n",
        "|Segurança | 5 | 3000 |\n",
        "|Docente | 16| 6000|\n",
        "|Diretoria| 1 |12500|\n",
        "\n",
        "Precisamos trabalhar com esses dados fornecendo:\n",
        "\n",
        "- A quantidade total de empregados;\n",
        "- A diferença entre o salário mais baixo e mais alto; e\n",
        "- A média ponderada da faixa salarial da escola."
      ],
      "metadata": {
        "id": "8_HYUbkVYdQY"
      }
    },
    {
      "cell_type": "code",
      "source": [
        "q_seguranca = 5\n",
        "s_seguranca = 3000\n",
        "\n",
        "q_docente = 16\n",
        "s_docente = 6000\n",
        "\n",
        "q_diretoria = 1\n",
        "s_diretoria = 12500"
      ],
      "metadata": {
        "id": "xJIq5MRRZAlj"
      },
      "execution_count": null,
      "outputs": []
    },
    {
      "cell_type": "code",
      "source": [
        "total_empregados = q_seguranca + q_docente + q_diretoria\n",
        "total_empregados"
      ],
      "metadata": {
        "id": "9fgC9DcEsdl_",
        "colab": {
          "base_uri": "https://localhost:8080/"
        },
        "outputId": "915bbb8d-dee6-4e40-dc4d-8c022010770a"
      },
      "execution_count": null,
      "outputs": [
        {
          "output_type": "execute_result",
          "data": {
            "text/plain": [
              "22"
            ]
          },
          "metadata": {},
          "execution_count": 12
        }
      ]
    },
    {
      "cell_type": "code",
      "source": [
        "diferenca_salario =  s_diretoria - s_seguranca\n",
        "diferenca_salario"
      ],
      "metadata": {
        "id": "08-3SGnXsfOA",
        "colab": {
          "base_uri": "https://localhost:8080/"
        },
        "outputId": "2a15e86c-0235-48d1-e3e3-2d9a392c22bb"
      },
      "execution_count": null,
      "outputs": [
        {
          "output_type": "execute_result",
          "data": {
            "text/plain": [
              "9500"
            ]
          },
          "metadata": {},
          "execution_count": 13
        }
      ]
    },
    {
      "cell_type": "code",
      "source": [
        "media = (q_seguranca*s_seguranca + q_docente*s_docente + q_diretoria*s_diretoria) / (total_empregados)\n",
        "media"
      ],
      "metadata": {
        "id": "BrS-fXm_scvt",
        "colab": {
          "base_uri": "https://localhost:8080/"
        },
        "outputId": "36bed7b7-36e2-46ab-a923-c0daf6add782"
      },
      "execution_count": null,
      "outputs": [
        {
          "output_type": "execute_result",
          "data": {
            "text/plain": [
              "5613.636363636364"
            ]
          },
          "metadata": {},
          "execution_count": 14
        }
      ]
    },
    {
      "cell_type": "markdown",
      "source": [
        "## Strings"
      ],
      "metadata": {
        "id": "yQy7b0ZWoD-P"
      }
    },
    {
      "cell_type": "markdown",
      "source": [
        "Strings são caracterizada por ter um conjunto de caracteres formando um texto.\n",
        "\n",
        "Strigs podem ser criadas ao atribuirmos a uma variável um dado que esteja entre aspas simples (`'`) ou aspas duplas (`\"`)"
      ],
      "metadata": {
        "id": "vlo2-DXusv3s"
      }
    },
    {
      "cell_type": "code",
      "source": [
        "s1 = 'Alura'\n",
        "s2 = \"Alura\"\n",
        "print(type(s1),type(s2))"
      ],
      "metadata": {
        "id": "2rN0DDdfslbI",
        "colab": {
          "base_uri": "https://localhost:8080/"
        },
        "outputId": "7068a136-969d-4d8a-e59f-099846ff020b"
      },
      "execution_count": null,
      "outputs": [
        {
          "output_type": "stream",
          "name": "stdout",
          "text": [
            "<class 'str'> <class 'str'>\n"
          ]
        }
      ]
    },
    {
      "cell_type": "markdown",
      "source": [
        "As variáveis textuais contém vários métodos que nos ajudam a formatar strings. Métódos podem ser executados ao definirmos um objeto seguindo a seguinte estrutura:\n",
        "\n",
        "```\n",
        "objeto.metodo()\n",
        "```\n",
        "\n",
        "Existem métodos que não necessitam dos `()`, é preciso verificar a documentação de cada caso."
      ],
      "metadata": {
        "id": "2e9UD_CCxqz_"
      }
    },
    {
      "cell_type": "markdown",
      "source": [
        "---\n",
        "**Situação:**\n",
        "\n",
        "Recebemos uma variável com o nome de uma professora da escola para inserimos no cadastro. No entanto, precisamos tratar esse texto antes de inserirmos no sistema"
      ],
      "metadata": {
        "id": "p6aPmMGP4tf9"
      }
    },
    {
      "cell_type": "code",
      "source": [
        "texto = '  Geovana Alessandra dias Sanyos '"
      ],
      "metadata": {
        "id": "4tkS8Iit1Ccg"
      },
      "execution_count": null,
      "outputs": []
    },
    {
      "cell_type": "markdown",
      "source": [
        "O objetivo final é que o nome esteja da seguinte forma:\n",
        "\n",
        "```\n",
        "'GEOVANA ALESSANDRA DIAS SANTOS'\n",
        "```"
      ],
      "metadata": {
        "id": "Dg2ZXSZOGzjC"
      }
    },
    {
      "cell_type": "markdown",
      "source": [
        "### [`str.upper()` ](https://docs.python.org/3/library/stdtypes.html#str.upper)\n",
        "Converte uma string para maiúsculas"
      ],
      "metadata": {
        "id": "iVTAD8q702eN"
      }
    },
    {
      "cell_type": "code",
      "source": [
        "texto.upper()"
      ],
      "metadata": {
        "id": "QXo-rc_6z-0R",
        "colab": {
          "base_uri": "https://localhost:8080/",
          "height": 36
        },
        "outputId": "b5a74e0c-0613-4944-df64-2089be7b60b4"
      },
      "execution_count": null,
      "outputs": [
        {
          "output_type": "execute_result",
          "data": {
            "text/plain": [
              "'  GEOVANA ALESSANDRA DIAS SANYOS '"
            ],
            "application/vnd.google.colaboratory.intrinsic+json": {
              "type": "string"
            }
          },
          "metadata": {},
          "execution_count": 3
        }
      ]
    },
    {
      "cell_type": "markdown",
      "source": [
        "### [`str.lower()`](https://docs.python.org/3/library/stdtypes.html#str.lower)\n",
        "Método converte uma string para minúsculas."
      ],
      "metadata": {
        "id": "hbDSBtMV1TpG"
      }
    },
    {
      "cell_type": "code",
      "source": [
        "texto.lower()"
      ],
      "metadata": {
        "id": "sfzZHgX50CTe",
        "colab": {
          "base_uri": "https://localhost:8080/",
          "height": 36
        },
        "outputId": "ee50bad0-fca8-401a-ad45-773b90d65b53"
      },
      "execution_count": null,
      "outputs": [
        {
          "output_type": "execute_result",
          "data": {
            "text/plain": [
              "'  geovana alessandra dias sanyos '"
            ],
            "application/vnd.google.colaboratory.intrinsic+json": {
              "type": "string"
            }
          },
          "metadata": {},
          "execution_count": 4
        }
      ]
    },
    {
      "cell_type": "markdown",
      "source": [
        "### [`str.strip()`](https://docs.python.org/3/library/stdtypes.html#str.strip)\n",
        "Método remove os espaços em branco do início e do fim de uma string."
      ],
      "metadata": {
        "id": "kz47eWM11gii"
      }
    },
    {
      "cell_type": "code",
      "source": [
        "texto.strip()"
      ],
      "metadata": {
        "id": "rrOEbuNR0D0a",
        "colab": {
          "base_uri": "https://localhost:8080/",
          "height": 35
        },
        "outputId": "58e36dfc-4f00-4e66-bfe1-0503d683f38c"
      },
      "execution_count": null,
      "outputs": [
        {
          "output_type": "execute_result",
          "data": {
            "text/plain": [
              "'Geovana Alessandra dias Sanyos'"
            ],
            "application/vnd.google.colaboratory.intrinsic+json": {
              "type": "string"
            }
          },
          "metadata": {},
          "execution_count": 19
        }
      ]
    },
    {
      "cell_type": "markdown",
      "source": [
        "### [`str.replace(antigo, novo)`](https://docs.python.org/3/library/stdtypes.html#str.replace)\n",
        "\n",
        "Método substitui todas as ocorrências do texto \"antigo\" na string por \"novo\""
      ],
      "metadata": {
        "id": "m6notiyS1SCV"
      }
    },
    {
      "cell_type": "code",
      "source": [
        "texto.replace('y','t')"
      ],
      "metadata": {
        "id": "N9EqhYtP0GY2",
        "colab": {
          "base_uri": "https://localhost:8080/",
          "height": 35
        },
        "outputId": "f96bb711-95f4-44c3-d861-b2c8a0d9fec8"
      },
      "execution_count": null,
      "outputs": [
        {
          "output_type": "execute_result",
          "data": {
            "text/plain": [
              "'  Geovana Alessandra dias Santos '"
            ],
            "application/vnd.google.colaboratory.intrinsic+json": {
              "type": "string"
            }
          },
          "metadata": {},
          "execution_count": 20
        }
      ]
    },
    {
      "cell_type": "code",
      "source": [
        "text01 = \"ora ora Xeroque  \"\n",
        "\n",
        "text02 = text01.replace(\"Xeroque\", \"Xerock\")\n",
        "text02 = text01.upper()\n",
        "text02 = text02.strip()\n",
        "\n",
        "text02\n",
        "\n",
        "#OOOOOOU\n",
        "\n",
        "text03 = \" Thais x MelO  \"\n",
        "text03 = text03.upper().strip()\n",
        "text03\n"
      ],
      "metadata": {
        "colab": {
          "base_uri": "https://localhost:8080/",
          "height": 36
        },
        "id": "RFKJ13Gao8Xr",
        "outputId": "799d308b-06c5-4bc9-ec59-3659096d5dbd"
      },
      "execution_count": null,
      "outputs": [
        {
          "output_type": "execute_result",
          "data": {
            "text/plain": [
              "'THAIS X MELO'"
            ],
            "application/vnd.google.colaboratory.intrinsic+json": {
              "type": "string"
            }
          },
          "metadata": {},
          "execution_count": 14
        }
      ]
    },
    {
      "cell_type": "markdown",
      "source": [
        "### Observações\n",
        "\n",
        "1. Os métodos retornam uma **tranformação**, não a executam no texto!\n",
        "\n",
        "2. Além disso, podemos acumular a execução de métodos."
      ],
      "metadata": {
        "id": "zukvEjhG2Rcn"
      }
    },
    {
      "cell_type": "code",
      "source": [
        "texto"
      ],
      "metadata": {
        "id": "OL4bTf8F0LBc",
        "colab": {
          "base_uri": "https://localhost:8080/",
          "height": 35
        },
        "outputId": "29bcfedb-f81c-4ef0-f907-99577749c4b3"
      },
      "execution_count": null,
      "outputs": [
        {
          "output_type": "execute_result",
          "data": {
            "text/plain": [
              "'  Geovana Alessandra dias Sanyos '"
            ],
            "application/vnd.google.colaboratory.intrinsic+json": {
              "type": "string"
            }
          },
          "metadata": {},
          "execution_count": 21
        }
      ]
    },
    {
      "cell_type": "markdown",
      "source": [
        "Para que seja executada a transformação nós podemos atribuir às saídas das transformações à variável"
      ],
      "metadata": {
        "id": "1KbwfVut2h6I"
      }
    },
    {
      "cell_type": "code",
      "source": [
        "texto = texto.strip().replace('y','t').upper()\n",
        "texto"
      ],
      "metadata": {
        "id": "CITYq50i0OlA",
        "colab": {
          "base_uri": "https://localhost:8080/",
          "height": 35
        },
        "outputId": "6e7f1395-2aaa-4186-9c8c-ece8530cbaa9"
      },
      "execution_count": null,
      "outputs": [
        {
          "output_type": "execute_result",
          "data": {
            "text/plain": [
              "'GEOVANA ALESSANDRA DIAS SANTOS'"
            ],
            "application/vnd.google.colaboratory.intrinsic+json": {
              "type": "string"
            }
          },
          "metadata": {},
          "execution_count": 22
        }
      ]
    },
    {
      "cell_type": "markdown",
      "source": [
        "## Coletando dados\n",
        "\n",
        "Em algumas aplicações precisamos coletar valores da pessoa usuária do nosso projeto. Em python conseguimos coletar dados de usuário através do comando [`input()`](https://docs.python.org/3/library/functions.html#input).\n",
        "\n",
        "Para fazer essa coleta podemos atribuir essa função à uma variável."
      ],
      "metadata": {
        "id": "0h9Fh5G9kHCa"
      }
    },
    {
      "cell_type": "code",
      "source": [
        "nome = input('Escreva seu nome: ')"
      ],
      "metadata": {
        "id": "Ofz0nkHZpKpL",
        "colab": {
          "base_uri": "https://localhost:8080/"
        },
        "outputId": "b5395900-73cb-49c7-b2f8-f7fab95a1133"
      },
      "execution_count": null,
      "outputs": [
        {
          "name": "stdout",
          "output_type": "stream",
          "text": [
            "Escreva seu nome: Mirla\n"
          ]
        }
      ]
    },
    {
      "cell_type": "code",
      "source": [
        "nome"
      ],
      "metadata": {
        "id": "txSw1joTpKiH",
        "colab": {
          "base_uri": "https://localhost:8080/",
          "height": 35
        },
        "outputId": "57291b4d-fd9c-4228-b98b-3898c9577928"
      },
      "execution_count": null,
      "outputs": [
        {
          "output_type": "execute_result",
          "data": {
            "text/plain": [
              "'Mirla'"
            ],
            "application/vnd.google.colaboratory.intrinsic+json": {
              "type": "string"
            }
          },
          "metadata": {},
          "execution_count": 24
        }
      ]
    },
    {
      "cell_type": "markdown",
      "source": [
        "O retorno desse comando sempre será uma *string*. Isso quer dizer que mesmo que façamos uma coleta de algo que deva ser numérico, ele será uma string.\n",
        "\n",
        "Então, será preciso **converter o resultado caso não seja desejável obter uma string**."
      ],
      "metadata": {
        "id": "7z7hcLCk_aCY"
      }
    },
    {
      "cell_type": "markdown",
      "source": [
        "Existem funções para conversão de valores:\n",
        "\n",
        "- Inteiros: [`int(dado_para_conversao)`](https://docs.python.org/3/library/functions.html#int)\n",
        "- Float: [`float(dado_para_conversao)`](https://docs.python.org/3/library/functions.html#float)\n",
        "- String: [`str(dado_para_conversao)`](https://docs.python.org/3/library/functions.html#func-str)\n",
        "- Booleano: [`bool(dado_para_conversao)`](https://docs.python.org/3/library/functions.html#bool)"
      ],
      "metadata": {
        "id": "TOlegATj1Jfp"
      }
    },
    {
      "cell_type": "code",
      "source": [
        "ano_entrada = input('Escreva o ano de ingresso do(a) estudante: ')"
      ],
      "metadata": {
        "id": "9nYEWZCq1F4-",
        "colab": {
          "base_uri": "https://localhost:8080/"
        },
        "outputId": "a63d4750-a2af-40e5-8745-0551dc9c2a18"
      },
      "execution_count": null,
      "outputs": [
        {
          "name": "stdout",
          "output_type": "stream",
          "text": [
            "Escreva o ano de ingresso do(a) estudante: 2023\n"
          ]
        }
      ]
    },
    {
      "cell_type": "code",
      "source": [
        "type(ano_entrada)"
      ],
      "metadata": {
        "id": "KOHCyzzt1FkE",
        "colab": {
          "base_uri": "https://localhost:8080/"
        },
        "outputId": "1c90a941-e566-43d7-e50f-403999b2e944"
      },
      "execution_count": null,
      "outputs": [
        {
          "output_type": "execute_result",
          "data": {
            "text/plain": [
              "str"
            ]
          },
          "metadata": {},
          "execution_count": 26
        }
      ]
    },
    {
      "cell_type": "code",
      "source": [
        "ano_entrada = int(input('Escreva o ano de ingresso do(a) estudante: '))"
      ],
      "metadata": {
        "id": "I-jRBY2m1FZU",
        "colab": {
          "base_uri": "https://localhost:8080/"
        },
        "outputId": "0f6e0564-b032-46b0-bce0-9515122e5d2f"
      },
      "execution_count": null,
      "outputs": [
        {
          "name": "stdout",
          "output_type": "stream",
          "text": [
            "Escreva o ano de ingresso do(a) estudante: 2023\n"
          ]
        }
      ]
    },
    {
      "cell_type": "code",
      "source": [
        "type(ano_entrada)"
      ],
      "metadata": {
        "id": "kjLT81mN1FQW",
        "colab": {
          "base_uri": "https://localhost:8080/"
        },
        "outputId": "bdcb1671-b5a2-40f5-bce1-a1a7f1d47d4d"
      },
      "execution_count": null,
      "outputs": [
        {
          "output_type": "execute_result",
          "data": {
            "text/plain": [
              "int"
            ]
          },
          "metadata": {},
          "execution_count": 28
        }
      ]
    },
    {
      "cell_type": "markdown",
      "source": [
        "Buscaremos apresentar melhor agora o resultado que obtivemos da transformação. Nós conseguimos formatar e apresentar o nosso resultado misturando strings com valores não textuais.\n",
        "\n",
        "Para fazer isso usamos a estrutura de formatação `f` com strings."
      ],
      "metadata": {
        "id": "yNI2-XTbB3aS"
      }
    },
    {
      "cell_type": "code",
      "source": [
        "nota_entrada = float(input('Digite a nota do teste de ingresso: '))\n",
        "print(f'Ano de entrada {ano_entrada} - nota do teste de ingresso {nota_entrada}')"
      ],
      "metadata": {
        "id": "jXOHqai9prrq",
        "colab": {
          "base_uri": "https://localhost:8080/"
        },
        "outputId": "052999df-712f-4405-8059-9222fb1ccbcb"
      },
      "execution_count": null,
      "outputs": [
        {
          "output_type": "stream",
          "name": "stdout",
          "text": [
            "Digite a nota do teste de ingresso: 9.0\n",
            "Ano de entrada 2023 - nota do teste de ingresso 9.0\n"
          ]
        }
      ]
    },
    {
      "cell_type": "code",
      "source": [
        "nome = \"Ana Maria\"\n",
        "idade = 17\n",
        "print(f\"O nome da aluna é {nome} e sua idade é {idade} anos.\")\n"
      ],
      "metadata": {
        "colab": {
          "base_uri": "https://localhost:8080/"
        },
        "id": "iFdCEFwo5dVB",
        "outputId": "1c5b38ba-2b18-4774-a6a6-931677abdc0e"
      },
      "execution_count": null,
      "outputs": [
        {
          "output_type": "stream",
          "name": "stdout",
          "text": [
            "O nome da aluna é Ana Maria e sua idade é 17 anos.\n"
          ]
        }
      ]
    },
    {
      "cell_type": "code",
      "source": [
        "nome_aluno = 'Fabricio Daniel'\n",
        "idade_aluno = 15\n",
        "media_aluno = 8.45\n",
        "\n",
        "print('Nome do aluno é %s, ele tem %d anos e sua média é %f.' %(nome_aluno, idade_aluno, media_aluno))\n"
      ],
      "metadata": {
        "colab": {
          "base_uri": "https://localhost:8080/"
        },
        "id": "tkJDTxWK6bPn",
        "outputId": "895ca1fa-9402-495a-a061-cb1b3c2098e1"
      },
      "execution_count": null,
      "outputs": [
        {
          "output_type": "stream",
          "name": "stdout",
          "text": [
            "Nome do aluno é Fabricio Daniel, ele tem 15 anos e sua média é 8.450000.\n"
          ]
        }
      ]
    },
    {
      "cell_type": "code",
      "source": [
        "print('Nome do aluno é %s, ele tem %d anos e sua média é %.2f.' %(nome_aluno, idade_aluno, media_aluno))\n"
      ],
      "metadata": {
        "colab": {
          "base_uri": "https://localhost:8080/"
        },
        "id": "nxF8aZu-6o3t",
        "outputId": "e388cc19-2802-4ca9-8db2-7939602aeb23"
      },
      "execution_count": null,
      "outputs": [
        {
          "output_type": "stream",
          "name": "stdout",
          "text": [
            "Nome do aluno é Fabricio Daniel, ele tem 15 anos e sua média é 8.45.\n"
          ]
        }
      ]
    },
    {
      "cell_type": "code",
      "source": [
        "x = True\n",
        "print(\"Valor de x: %s\" % str(x))\n"
      ],
      "metadata": {
        "colab": {
          "base_uri": "https://localhost:8080/"
        },
        "id": "jQltIxvF6vZm",
        "outputId": "fcce16b3-53f3-4b75-dd22-04c924b3e95d"
      },
      "execution_count": null,
      "outputs": [
        {
          "output_type": "stream",
          "name": "stdout",
          "text": [
            "Valor de x: True\n"
          ]
        }
      ]
    },
    {
      "cell_type": "code",
      "source": [
        "nome_aluno = 'Fabricio Daniel'\n",
        "\n",
        "print('Nome do aluno: {}'.format(nome_aluno))\n",
        "\n",
        "\n",
        "print('Nome do aluno é {}, ele tem {} anos e sua média é {}.' .format(nome_aluno, idade_aluno, media_aluno))\n"
      ],
      "metadata": {
        "colab": {
          "base_uri": "https://localhost:8080/"
        },
        "id": "evxMMn_u6487",
        "outputId": "46c2376f-5609-4f14-bc38-8cad068ec799"
      },
      "execution_count": null,
      "outputs": [
        {
          "output_type": "stream",
          "name": "stdout",
          "text": [
            "Nome do aluno: Fabricio Daniel\n",
            "Nome do aluno é Fabricio Daniel, ele tem 15 anos e sua média é 8.45.\n"
          ]
        }
      ]
    },
    {
      "cell_type": "markdown",
      "source": [
        "## Caracteres especiais\n",
        "\n",
        "* **\\n** para pular linha\n",
        "* **\\t** para tabulação\n",
        "* **\\ \\** sem espaço para uma única barra invertida\n",
        "* **\\ \"** sem espaço para imprimir aspas duplas quando estamos trabalhando com uma string criada a partir de aspas duplas \". Porém, isso não é necessário caso seja uma string criada por aspas simples\n",
        "* **\\ '** sem espaço para imprimir aspas simples quando estamos trabalhando com uma string criada a partir de aspas simples '. Caso seja uma string criada por aspas duplas \", isso não é necessário.\n"
      ],
      "metadata": {
        "id": "T0Swopyu7xbb"
      }
    },
    {
      "cell_type": "code",
      "source": [
        "print(\"Estudar é um esforço constante,\\nÉ como cultivar uma planta,\\nPrecisamos de dedicação e paciência,\\nPara ver o fruto amadurecer.\")\n"
      ],
      "metadata": {
        "colab": {
          "base_uri": "https://localhost:8080/"
        },
        "id": "PknlBiRd7aFq",
        "outputId": "2c69665f-c813-40be-9c6d-09737c3daf25"
      },
      "execution_count": null,
      "outputs": [
        {
          "output_type": "stream",
          "name": "stdout",
          "text": [
            "Estudar é um esforço constante,\n",
            "É como cultivar uma planta,\n",
            "Precisamos de dedicação e paciência,\n",
            "Para ver o fruto amadurecer.\n"
          ]
        }
      ]
    },
    {
      "cell_type": "code",
      "source": [
        "print('Quantidade\\tQualidade\\n5 amostras\\tAlta\\n3 amostras\\tBaixa')\n"
      ],
      "metadata": {
        "colab": {
          "base_uri": "https://localhost:8080/"
        },
        "id": "wko9KYoj7dhu",
        "outputId": "8855db33-0263-4914-bfea-274b87c428ce"
      },
      "execution_count": null,
      "outputs": [
        {
          "output_type": "stream",
          "name": "stdout",
          "text": [
            "Quantidade\tQualidade\n",
            "5 amostras\tAlta\n",
            "3 amostras\tBaixa\n"
          ]
        }
      ]
    },
    {
      "cell_type": "code",
      "source": [
        "print(\"Ouvi uma vez \\\"Os frutos do conhecimento são os mais doces e duradouros de todos.\\\"\")\n"
      ],
      "metadata": {
        "colab": {
          "base_uri": "https://localhost:8080/"
        },
        "id": "9Kkn_tlU9AQ3",
        "outputId": "13946d54-6562-4ceb-f03e-2f96b54505c9"
      },
      "execution_count": null,
      "outputs": [
        {
          "output_type": "stream",
          "name": "stdout",
          "text": [
            "Ouvi uma vez \"Os frutos do conhecimento são os mais doces e duradouros de todos.\"\n"
          ]
        }
      ]
    },
    {
      "cell_type": "markdown",
      "source": [
        "# **PRÁTICA!**"
      ],
      "metadata": {
        "id": "dD6HjmFF-8Va"
      }
    },
    {
      "cell_type": "code",
      "source": [
        "'''\n",
        "Crie um programa que solicite à pessoa usuária digitar seu nome, e imprima “Olá, [nome]!”\n",
        "'''\n",
        "\n",
        "nome = input(\"Digite seu nome: \")\n",
        "print(f'Olá, {nome}!')"
      ],
      "metadata": {
        "colab": {
          "base_uri": "https://localhost:8080/"
        },
        "id": "ek2_EnKu9oTW",
        "outputId": "11fab496-4b23-48f7-9eaa-c24ae2963a64"
      },
      "execution_count": null,
      "outputs": [
        {
          "output_type": "stream",
          "name": "stdout",
          "text": [
            "Digite seu nome: txm\n",
            "Olá, txm!\n"
          ]
        }
      ]
    },
    {
      "cell_type": "code",
      "source": [
        "'''\n",
        "Crie um programa que solicite à pessoa usuária digitar seu nome e idade, e imprima “Olá, [nome], você tem [idade] anos.”.\n",
        "'''\n",
        "\n",
        "nome = input('Digite seu nome:')\n",
        "idade = input('Digite sua idade: ')\n",
        "print(f'Olá, {nome}, você tem {idade} anos.')\n"
      ],
      "metadata": {
        "colab": {
          "base_uri": "https://localhost:8080/"
        },
        "id": "vPR-KOXV_DmU",
        "outputId": "f159df28-80dc-4c19-ea53-11abe003b466"
      },
      "execution_count": null,
      "outputs": [
        {
          "output_type": "stream",
          "name": "stdout",
          "text": [
            "Digite seu nome:txm\n",
            "Digite sua idade: 18\n",
            "Olá, txm, você tem 18 anos.\n"
          ]
        }
      ]
    },
    {
      "cell_type": "code",
      "source": [
        "'''\n",
        "Crie um programa que solicite à pessoa usuária digitar seu nome, idade e altura em metros, e imprima “Olá, [nome], você tem [idade] anos e mede [altura] metros!”.\n",
        "'''\n",
        "\n",
        "nome = input('Digite seu nome: ')\n",
        "idade = input('Digite sua idade: ')\n",
        "altura = input('Digite sua altura: ')\n",
        "\n",
        "print(f'Olá, {nome}, você tem {idade} anos e mede {altura} metros!')"
      ],
      "metadata": {
        "colab": {
          "base_uri": "https://localhost:8080/"
        },
        "id": "692B7bEf_ieA",
        "outputId": "b4d55c0a-043c-4ec3-c991-30d2fd6e62af"
      },
      "execution_count": null,
      "outputs": [
        {
          "output_type": "stream",
          "name": "stdout",
          "text": [
            "Digite seu nome: txm\n",
            "Digite sua idade: 18\n",
            "Digite sua altura: 1,60\n",
            "Olá, txm, você tem 18 anos e mede 1,60 metros!\n"
          ]
        }
      ]
    },
    {
      "cell_type": "code",
      "source": [
        "#Crie um programa que solicite dois valores numéricos à pessoa usuária e imprima a soma dos dois valores.\n",
        "\n",
        "valor1 = int(input('Digite um número: '))\n",
        "valor2 = int(input('Digite outro número: '))\n",
        "\n",
        "print(f'Esta é a soma dos dois valores: {valor1 + valor2}')"
      ],
      "metadata": {
        "colab": {
          "base_uri": "https://localhost:8080/"
        },
        "id": "WYPSav4BAG-j",
        "outputId": "3fff939f-8839-4939-afc3-0f1a2c082e60"
      },
      "execution_count": null,
      "outputs": [
        {
          "output_type": "stream",
          "name": "stdout",
          "text": [
            "Digite um número: 1\n",
            "Digite outro número: 5\n",
            "Esta é a soma dos dois valores: 6\n"
          ]
        }
      ]
    },
    {
      "cell_type": "code",
      "source": [
        "#Crie um programa que solicite três valores numéricos à pessoa usuária e imprima a soma dos três valores.\n",
        "\n",
        "valor1 = int(input('Digite um número: '))\n",
        "valor2 = int(input('Digite outro número: '))\n",
        "valor3 = int(input('Digite mais um número: '))\n",
        "\n",
        "print(f'Esta é a soma dos três valores: {valor1 + valor2 + valor3}')"
      ],
      "metadata": {
        "colab": {
          "base_uri": "https://localhost:8080/"
        },
        "id": "txLqPmVZBG53",
        "outputId": "1115c335-6c55-4a59-ec21-7e19b25044fb"
      },
      "execution_count": null,
      "outputs": [
        {
          "output_type": "stream",
          "name": "stdout",
          "text": [
            "Digite um número: 1\n",
            "Digite outro número: 2\n",
            "Digite mais um número: 3\n",
            "Esta é a soma dos três valores: 6\n"
          ]
        }
      ]
    },
    {
      "cell_type": "code",
      "source": [
        "#Crie uma variável chamada “frase” e atribua a ela uma string de sua escolha. Em seguida, imprima a frase na tela.\n",
        "\n",
        "frase = 'eu amo nutella'\n",
        "print(frase)"
      ],
      "metadata": {
        "colab": {
          "base_uri": "https://localhost:8080/"
        },
        "id": "jCiZY_VlBzfV",
        "outputId": "74ca0726-8373-439a-ff7b-76de252f9a8c"
      },
      "execution_count": null,
      "outputs": [
        {
          "output_type": "stream",
          "name": "stdout",
          "text": [
            "eu amo nutella\n"
          ]
        }
      ]
    },
    {
      "cell_type": "code",
      "source": [
        "#Crie um código que solicite uma frase e depois imprima a frase na tela.\n",
        "\n",
        "frase = input('Digite uma frase: ')\n",
        "print(frase)"
      ],
      "metadata": {
        "colab": {
          "base_uri": "https://localhost:8080/"
        },
        "id": "NCinjf0mB9ug",
        "outputId": "68981470-4dc3-449d-a4c9-f0ee52897644"
      },
      "execution_count": null,
      "outputs": [
        {
          "output_type": "stream",
          "name": "stdout",
          "text": [
            "Digite uma frase: a vida é triste\n",
            "a vida é triste\n"
          ]
        }
      ]
    },
    {
      "cell_type": "code",
      "source": [
        "#Crie um código que solicite uma frase à pessoa usuária e imprima a mesma frase digitada mas com todas as letras maiúsculas\n",
        "\n",
        "frase = input('Digite uma frase: ')\n",
        "print(frase.upper())"
      ],
      "metadata": {
        "colab": {
          "base_uri": "https://localhost:8080/"
        },
        "id": "KOiOfGzZCJ4m",
        "outputId": "fd02e5b3-73fe-4e3f-c67d-33f6b077c972"
      },
      "execution_count": null,
      "outputs": [
        {
          "output_type": "stream",
          "name": "stdout",
          "text": [
            "Digite uma frase: aeio ea\n",
            "AEIO EA\n"
          ]
        }
      ]
    },
    {
      "cell_type": "code",
      "source": [
        "#Crie um código que solicite uma frase à pessoa usuária e imprima a mesma frase digitada mas com todas as letras minúsculas.\n",
        "\n",
        "frase = input('Digite uma frase: ')\n",
        "print(frase.lower())"
      ],
      "metadata": {
        "colab": {
          "base_uri": "https://localhost:8080/"
        },
        "id": "m9kLtYkpCYId",
        "outputId": "3473ff28-3f4e-4677-90eb-8f599703c021"
      },
      "execution_count": null,
      "outputs": [
        {
          "output_type": "stream",
          "name": "stdout",
          "text": [
            "Digite uma frase: teste ASIGJ\n",
            "teste asigj\n"
          ]
        }
      ]
    },
    {
      "cell_type": "code",
      "source": [
        "#Crie um código que solicite uma frase à pessoa usuária e imprima a mesma frase sem espaços em branco no início e no fim e em letras minúsculas.\n",
        "\n",
        "frase = input('Digite uma frase: ')\n",
        "print(frase.lower().strip())"
      ],
      "metadata": {
        "colab": {
          "base_uri": "https://localhost:8080/"
        },
        "id": "iJrFNSS5Cnns",
        "outputId": "512e4b99-3836-4362-95ff-b61ee11dd9b6"
      },
      "execution_count": null,
      "outputs": [
        {
          "output_type": "stream",
          "name": "stdout",
          "text": [
            "Digite uma frase: bora time\n",
            "bora time\n"
          ]
        }
      ]
    },
    {
      "cell_type": "code",
      "source": [
        "#Crie um código que solicite uma frase à pessoa usuária e imprima a mesma frase com todas as vogais “a” trocadas pela caractere “@”.\n",
        "\n",
        "frase = input('Digite uma frase: ')\n",
        "print(frase.replace('a', '@'))"
      ],
      "metadata": {
        "id": "N97g8LpvC5AJ"
      },
      "execution_count": null,
      "outputs": []
    },
    {
      "cell_type": "markdown",
      "source": [
        "# Estruturas condicionais"
      ],
      "metadata": {
        "id": "NwRaiHHHhhyl"
      }
    },
    {
      "cell_type": "markdown",
      "source": [
        "## `IF` e `ELSE`\n",
        "\n",
        "O `if` e `else` são duas estruturas condicionais. O `if` executará o bloco de comando caso a condição colocada for **verdadeira**. O `else` é um caso em que a condicional de `if` seja **falsa**."
      ],
      "metadata": {
        "id": "qXZqg9aYEhAh"
      }
    },
    {
      "cell_type": "markdown",
      "source": [
        "O `if` é uma palavra-chave em Python que significa \"se\". Ele é usado para formar uma estrutura condicional, que permite que você verifique se uma determinada condição é verdadeira ou falsa e, em seguida, execute um bloco de código específico dependendo do resultado da verificação. A sintaxe para usar o `if` é:\n",
        "\n",
        "\n",
        "\n",
        "```\n",
        "if condição:\n",
        "    # faça algo\n",
        "```\n",
        "\n"
      ],
      "metadata": {
        "id": "EIhlqHXd2Gil"
      }
    },
    {
      "cell_type": "code",
      "source": [
        "if 2>7:\n",
        "  print('condição verdadeira')\n",
        "  print()\n",
        "print('fora do bloco')"
      ],
      "metadata": {
        "id": "VCCVHCH31rXk",
        "colab": {
          "base_uri": "https://localhost:8080/"
        },
        "outputId": "7ed831d1-1f75-4809-eb4e-36f0722b78fd"
      },
      "execution_count": null,
      "outputs": [
        {
          "output_type": "stream",
          "name": "stdout",
          "text": [
            "fora do bloco\n"
          ]
        }
      ]
    },
    {
      "cell_type": "markdown",
      "source": [
        "Já o `else` em Python é usada em conjunto com a palavra-chave `if` para formar uma estrutura condicional. A sintaxe para usar o `else` é:\n",
        "\n",
        "```\n",
        "if condição:\n",
        "  # código caso seja verdade\n",
        "else:\n",
        "  # código caso seja falso\n",
        "```\n",
        "\n",
        "O `else` é executado quando a condição verificada pelo `if` é avaliada como `False`."
      ],
      "metadata": {
        "id": "27RW2v_sIKct"
      }
    },
    {
      "cell_type": "code",
      "source": [
        "idade_maria = int(input('Digite a idade da Maria: '))\n",
        "idade_beatriz = int(input('Digite a idade da Beatriz: '))\n",
        "\n",
        "if idade_maria > idade_beatriz:\n",
        "  print('Maria é mais velha que Beatriz.')\n"
      ],
      "metadata": {
        "colab": {
          "base_uri": "https://localhost:8080/"
        },
        "id": "TAHlAuERHCZk",
        "outputId": "cd67bf02-0d40-4736-b6b7-3f0c697f1b03"
      },
      "execution_count": null,
      "outputs": [
        {
          "output_type": "stream",
          "name": "stdout",
          "text": [
            "Digite a idade da Maria: 42\n",
            "Digite a idade da Beatriz: 30\n",
            "Maria é mais velha que Beatriz.\n"
          ]
        }
      ]
    },
    {
      "cell_type": "markdown",
      "source": [
        "---\n",
        "**Situação:**\n",
        "\n",
        "Receberemos a média de estudantes e precisamos de um algoritmo que execute a análise e decida se esse estudante está **Aprovado** ou Reprovado, mostrando uma mensagem do resultado. Para ser aprovado, a média precisa ser igual ou superior à 6.0."
      ],
      "metadata": {
        "id": "BqORg85XX-Nl"
      }
    },
    {
      "cell_type": "code",
      "source": [
        "media = float(input('Digite a média: '))\n",
        "\n",
        "if media >= 6.0:\n",
        "  print('Aprovado(a)')\n",
        "else:\n",
        "  print('Reprovado(a)')"
      ],
      "metadata": {
        "id": "8285zB_i2g5e",
        "colab": {
          "base_uri": "https://localhost:8080/"
        },
        "outputId": "64b3d92b-489d-4e1e-b3b0-1ec0357a35e8"
      },
      "execution_count": null,
      "outputs": [
        {
          "output_type": "stream",
          "name": "stdout",
          "text": [
            "Digite a média: 4\n",
            "Reprovado(a)\n"
          ]
        }
      ]
    },
    {
      "cell_type": "markdown",
      "source": [
        "Agora a nossa instituição de ensino lançou uma nota oficial que pessoas que tenham média entre 4.0 e 6.0 podem fazer os cursos de **Recuperação** nas férias para poder recuperar a nota.\n",
        "\n",
        "Então podemos agora fazer um conjunto de `if`s para que possamos estruturar essa nova condição."
      ],
      "metadata": {
        "id": "bD9O17HB6LUo"
      }
    },
    {
      "cell_type": "code",
      "source": [
        "media = float(input('Digite a média: '))\n",
        "\n",
        "if media >= 6.0:\n",
        "  print('Aprovado(a)')\n",
        "if 6.0 > media >= 4.0:\n",
        "  print('Recuperação')\n",
        "if media < 4.0:\n",
        "  print('Reprovado(a)')"
      ],
      "metadata": {
        "id": "PkUwbP_c2lBP",
        "colab": {
          "base_uri": "https://localhost:8080/"
        },
        "outputId": "4bc7fbee-42fb-4d88-96aa-d9ee5aa7246b"
      },
      "execution_count": null,
      "outputs": [
        {
          "output_type": "stream",
          "name": "stdout",
          "text": [
            "Digite a média: 5.0\n",
            "Recuperação\n"
          ]
        }
      ]
    },
    {
      "cell_type": "markdown",
      "source": [
        "Notemos que em casos com 3 situações como esse precisamos definir bem nossas condições. Pois foi feita uma construção com `else` no final, ele irá considerar apenas a alguma condicional para ser o caso **falso** podendo resultar em duas (ou mais) execuções.\n",
        "\n",
        "Por exemplo:"
      ],
      "metadata": {
        "id": "D5e2mByjvycO"
      }
    },
    {
      "cell_type": "code",
      "source": [
        "media = float(input('Digite a média: '))\n",
        "\n",
        "if media >= 6.0:\n",
        "  print('Aprovado(a)')\n",
        "if 6.0 > media >= 4.0:\n",
        "  print('Recuperação')\n",
        "else:\n",
        "  print('Reprovado(a)')"
      ],
      "metadata": {
        "id": "8hb3wk-62oMg",
        "colab": {
          "base_uri": "https://localhost:8080/"
        },
        "outputId": "5029befc-5a5d-4b7c-f0cb-4b17cae1b158"
      },
      "execution_count": null,
      "outputs": [
        {
          "output_type": "stream",
          "name": "stdout",
          "text": [
            "Digite a média: 7.0\n",
            "Aprovado(a)\n",
            "Reprovado(a)\n"
          ]
        }
      ]
    },
    {
      "cell_type": "markdown",
      "source": [
        "## `ELIF`\n",
        "\n",
        "O `elif` é uma palavra-chave em Python que significa \"senão, se\" e pode ser considerado uma união do `else` com um `if`. Ela é usada em conjunto com a palavra-chave `if` para formar uma estrutura condicional encadeada.\n",
        "\n"
      ],
      "metadata": {
        "id": "04T5g-7h4zWx"
      }
    },
    {
      "cell_type": "markdown",
      "source": [
        "A sintaxe para usar o `elif` é:\n",
        "\n",
        "```\n",
        "if condição1:\n",
        "    # faça algo\n",
        "elif condição2:\n",
        "    # faça outra coisa\n",
        "elif condição3:\n",
        "    # faça mais alguma coisa\n",
        "else:\n",
        "    # faça algo diferente\n",
        "```\n",
        "\n",
        "O `elif` permite que você verifique várias condições de forma encadeada, economizando espaço em seu código. Se a primeira condição for avaliada como `False`, o interpretador Python avaliará a próxima condição no `elif`. Isso continuará até que uma condição seja avaliada como `True` ou até que o `else` seja atingido. Se nenhuma das condições forem avaliadas como `True`, a execução do código do `else` será iniciada."
      ],
      "metadata": {
        "id": "rNBHr5mm1Lm6"
      }
    },
    {
      "cell_type": "markdown",
      "source": [
        "Vamos usar o mesmo caso anterior:"
      ],
      "metadata": {
        "id": "MVoykFbB4bd4"
      }
    },
    {
      "cell_type": "code",
      "source": [
        "media = float(input('Digite a média: '))\n",
        "\n",
        "if media >= 6.0:\n",
        "  print('Aprovado(a)')\n",
        "elif 6.0 > media >= 4.0:\n",
        "  print('Recuperação')\n",
        "else:\n",
        "  print('Reprovado(a)')"
      ],
      "metadata": {
        "id": "TcHMdjAw3B-_",
        "colab": {
          "base_uri": "https://localhost:8080/"
        },
        "outputId": "a8ebeff8-a52f-4d18-b0a2-bc56993180b0"
      },
      "execution_count": null,
      "outputs": [
        {
          "output_type": "stream",
          "name": "stdout",
          "text": [
            "Digite a média: 4\n",
            "Recuperação\n"
          ]
        }
      ]
    },
    {
      "cell_type": "markdown",
      "source": [
        "## Operadores\n",
        "\n",
        "Durante a construção de comandos por vezes precisamos de uma elaboração maior de da expressão condicional, necessitando que alguns operadores lógicos estejam integrados."
      ],
      "metadata": {
        "id": "Tf1wSOem6iwZ"
      }
    },
    {
      "cell_type": "markdown",
      "source": [
        "### `AND`, `OR`, `NOT`\n",
        "\n",
        "Os operadores lógicos `and`, `or` e `not` são usados para combinar expressões lógicas em Python. Eles são usados frequentemente em conjunto com o `if` para criar estruturas condicionais mais complexas.\n"
      ],
      "metadata": {
        "id": "GFIZnRWXGPWO"
      }
    },
    {
      "cell_type": "markdown",
      "source": [
        "- `AND` é usado para verificar se duas condições são verdadeiras. A expressão lógica¹ `x and y` é avaliada como `True` apenas se **ambas as condições `x` e `y` forem verdadeiras**, e como `False` caso contrário.\n",
        "\n",
        "- `OR` é usado para verificar se pelo menos uma das condições é verdadeira. A expressão lógica `x or y` é avaliada como `True` **se pelo menos uma das condições `x` ou `y` for verdadeira**, e como `False` se ambas forem falsas.\n",
        "\n",
        "- `NOT` é usado para **negar uma condição**. A expressão lógica not x é avaliada como True se a condição x for falsa, e como False se a condição x for verdadeira.\n",
        "\n",
        "¹ Uma expressão lógica é uma declaração que pode ser avaliada como verdadeira ou falsa. Ela é composta por operandos lógicos² e operadores lógicos³, que são usados ​​para combinar várias expressões lógicas em uma única expressão.\n",
        "\n",
        "² Os operandos lógicos são os elementos que são comparados ou avaliados em uma expressão lógica. Eles são geralmente valores verdadeiros ou falsos, mas também podem ser expressões lógicas mais complexas. Em Python, os operandos lógicos são os valores `True` e `False`.\n",
        "\n",
        "³ Os operadores lógicos são os símbolos ou palavras-chave que são usados ​​para combinar várias expressões lógicas em uma única expressão. Em Python, os operadores lógicos são `and`, `or` e `not`, bem como as palavras-chave `if`, `elif` e `else`."
      ],
      "metadata": {
        "id": "Z_dgAoHXJbzB"
      }
    },
    {
      "cell_type": "code",
      "source": [
        "t1 = t2 = True\n",
        "f1 = f2 = False"
      ],
      "metadata": {
        "id": "Fs_qb0dLOXsj"
      },
      "execution_count": null,
      "outputs": []
    },
    {
      "cell_type": "code",
      "source": [
        "if t1 and t2:\n",
        "  print('expressão verdadeira')\n",
        "else:\n",
        "  print('expressão falsa')"
      ],
      "metadata": {
        "id": "RUgcDDaU32W9",
        "colab": {
          "base_uri": "https://localhost:8080/"
        },
        "outputId": "2c2be907-b088-47eb-e3d4-5d463c86afd1"
      },
      "execution_count": null,
      "outputs": [
        {
          "output_type": "stream",
          "name": "stdout",
          "text": [
            "expressão verdadeira\n"
          ]
        }
      ]
    },
    {
      "cell_type": "code",
      "source": [
        "if t1 or f2:\n",
        "  print('expressão verdadeira')\n",
        "else:\n",
        "  print('expressão falsa')"
      ],
      "metadata": {
        "id": "AUQ0kNf132-7",
        "colab": {
          "base_uri": "https://localhost:8080/"
        },
        "outputId": "9d86e990-e39c-4ee3-fb17-cff536a0ca40"
      },
      "execution_count": null,
      "outputs": [
        {
          "output_type": "stream",
          "name": "stdout",
          "text": [
            "expressão verdadeira\n"
          ]
        }
      ]
    },
    {
      "cell_type": "code",
      "source": [
        "if not f2:\n",
        "  print('expressão verdadeira')\n",
        "else:\n",
        "  print('expressão falsa')"
      ],
      "metadata": {
        "id": "5MmGMHzm38TX",
        "colab": {
          "base_uri": "https://localhost:8080/"
        },
        "outputId": "00171791-fe59-42b9-e9f1-c15bf61a2349"
      },
      "execution_count": null,
      "outputs": [
        {
          "output_type": "stream",
          "name": "stdout",
          "text": [
            "expressão verdadeira\n"
          ]
        }
      ]
    },
    {
      "cell_type": "code",
      "source": [],
      "metadata": {
        "id": "GDyRKILiOct_"
      },
      "execution_count": null,
      "outputs": []
    },
    {
      "cell_type": "markdown",
      "source": [
        "### `IN`\n",
        "\n",
        "É usado para verificar se um elemento está presente em uma lista, tupla ou outra variável de conjunto. A expressão `x in y` é avaliada como `True` se o elemento `x` estiver presente na variável de conjunto `y`, e como `False` caso contrário."
      ],
      "metadata": {
        "id": "w7EXG1dhWtja"
      }
    },
    {
      "cell_type": "markdown",
      "source": [
        "Podemos verificar isso com variáveis de texto.\n",
        "\n",
        "---\n",
        "\n",
        "**Situação:**\n",
        "\n",
        "Na escola foi passada uma lista com nomes de estudantes que foram aprovados por média no semestre, mas é preciso verificar se alguns nomes estão nessa lista para verificar se os dados estão corretos.\n",
        "\n",
        "A lista distribuida pode ser observada abaixo:\n",
        "\n",
        "```\n",
        "lista = 'José da Silva, Maria Oliveira, Pedro Martins, Ana Souza, Carlos Rodrigues, Juliana Santos, Bruno Gomes, Beatriz Costa, Felipe Almeida, Mariana Fernandes, João Pinto, Luísa Nascimento, Gabriel Souza, Manuela Santos, Thiago Oliveira, Sofia Ferreira, Rafael Albuquerque, Isabella Gomes, Bruno Costa, Maria Martins, Rafaela Souza, Matheus Fernandes, Luísa Almeida, Beatriz Pinto, Mariana Rodrigues, Gabriel Nascimento, João Ferreira, Maria Albuquerque, Felipe Oliveira\n",
        "'\n",
        "```\n",
        "\n",
        "Os nomes que precisam ser verificados são os seguintes:\n",
        "\n",
        "```\n",
        "nome_1 = 'Mariana Rodrigues'\n",
        "nome_2 = 'Marcelo Nogueira'\n",
        "```"
      ],
      "metadata": {
        "id": "enJNp6JenQbq"
      }
    },
    {
      "cell_type": "code",
      "source": [
        "lista = 'José da Silva, Maria Oliveira, Pedro Martins, Ana Souza, Carlos Rodrigues, Juliana Santos, Bruno Gomes, Beatriz Costa, Felipe Almeida, Mariana Fernandes, João Pinto, Luísa Nascimento, Gabriel Souza, Manuela Santos, Thiago Oliveira, Sofia Ferreira, Rafael Albuquerque, Isabella Gomes, Bruno Costa, Maria Martins, Rafaela Souza, Matheus Fernandes, Luísa Almeida, Beatriz Pinto, Mariana Rodrigues, Gabriel Nascimento, João Ferreira, Maria Albuquerque, Felipe Oliveira'\n",
        "lista"
      ],
      "metadata": {
        "id": "kU25ABUQ5NBe",
        "colab": {
          "base_uri": "https://localhost:8080/",
          "height": 70
        },
        "outputId": "0eff9aad-89f0-419b-b8a2-040b4ac07d31"
      },
      "execution_count": null,
      "outputs": [
        {
          "output_type": "execute_result",
          "data": {
            "text/plain": [
              "'José da Silva, Maria Oliveira, Pedro Martins, Ana Souza, Carlos Rodrigues, Juliana Santos, Bruno Gomes, Beatriz Costa, Felipe Almeida, Mariana Fernandes, João Pinto, Luísa Nascimento, Gabriel Souza, Manuela Santos, Thiago Oliveira, Sofia Ferreira, Rafael Albuquerque, Isabella Gomes, Bruno Costa, Maria Martins, Rafaela Souza, Matheus Fernandes, Luísa Almeida, Beatriz Pinto, Mariana Rodrigues, Gabriel Nascimento, João Ferreira, Maria Albuquerque, Felipe Oliveira'"
            ],
            "application/vnd.google.colaboratory.intrinsic+json": {
              "type": "string"
            }
          },
          "metadata": {},
          "execution_count": 6
        }
      ]
    },
    {
      "cell_type": "code",
      "source": [
        "nome_1 = 'Mariana Rodrigues'\n",
        "nome_2 = 'Marcelo Nogueira'"
      ],
      "metadata": {
        "id": "GY82qLpivC6Y"
      },
      "execution_count": null,
      "outputs": []
    },
    {
      "cell_type": "code",
      "source": [
        "if nome_1 in lista:\n",
        "  print(f'{nome_1} está na lista')\n",
        "else:\n",
        "  print(f'{nome_1} não está na lista')"
      ],
      "metadata": {
        "id": "SHhVdvEX5Ry-",
        "colab": {
          "base_uri": "https://localhost:8080/"
        },
        "outputId": "d8791790-9cae-46b3-f6d9-1fe549bfa1c1"
      },
      "execution_count": null,
      "outputs": [
        {
          "output_type": "stream",
          "name": "stdout",
          "text": [
            "Mariana Rodrigues está na lista\n"
          ]
        }
      ]
    },
    {
      "cell_type": "code",
      "source": [
        "if nome_2 in lista:\n",
        "  print(f'{nome_2} está na lista')\n",
        "else:\n",
        "  print(f'{nome_2} não está na lista')"
      ],
      "metadata": {
        "id": "QsUQ8fnF5RqZ",
        "colab": {
          "base_uri": "https://localhost:8080/"
        },
        "outputId": "d2a56ed4-6612-4a61-8115-aaeaf07488ef"
      },
      "execution_count": null,
      "outputs": [
        {
          "output_type": "stream",
          "name": "stdout",
          "text": [
            "Marcelo Nogueira não está na lista\n"
          ]
        }
      ]
    },
    {
      "cell_type": "markdown",
      "source": [
        "# **EXERCÍCIOS**\n",
        "\n",
        "Aquecendo na programação\n",
        "\n",
        "1. Escreva um programa que peça à pessoa usuária para fornecer dois números e exibir o número maior.\n",
        "\n",
        "2. Escreva um programa que solicite o percentual de crescimento de produção de uma empresa e informe se houve um crescimento (porcentagem positiva) ou decrescimento (porcentagem negativa).\n",
        "\n",
        "3. Escreva um programa que determine se uma letra fornecida pela pessoa usuária é uma vogal ou consoante.\n",
        "\n",
        "4. Escreva um programa que leia valores médios de preços de um modelo de carro por 3 anos consecutivos e exiba o valor mais alto e mais baixo entre esses três anos.\n",
        "\n",
        "5. Escreva um programa que pergunte sobre o preço de três produtos e indique qual é o produto mais barato para comprar.\n",
        "\n",
        "6. Escreva um programa que leia três números e os exiba em ordem decrescente.\n",
        "\n",
        "7. Escreva um programa que pergunte em qual turno a pessoa usuária estuda (\"manhã\", \"tarde\" ou \"noite\") e exiba a mensagem \"Bom Dia!\", \"Boa Tarde!\", \"Boa Noite!\", ou \"Valor Inválido!\", conforme o caso.\n",
        "\n",
        "8. Escreva um programa que peça um número inteiro à pessoa usuária e determine se ele é par ou ímpar. Dica: Você pode utilizar o operador módulo %.\n",
        "\n",
        "9. Escreva um programa que peça um número à pessoa usuária e informe se ele é inteiro ou decimal.\n",
        "\n",
        "### Momento dos projetos\n",
        "10. Um programa deve ser escrito para ler dois números e, em seguida, perguntar à pessoa usuária qual operação ele deseja realizar. O resultado da operação deve incluir informações sobre o número - se é par ou ímpar, positivo ou negativo e inteiro ou decimal.\n",
        "\n",
        "11. Escreva um programa que peça à pessoa usuária três números que representam os lados de um triângulo. O programa deve informar se os valores podem ser utilizados para formar um triângulo e, caso afirmativo, se ele é equilátero, isósceles ou escaleno. Tenha em mente algumas dicas:\n",
        "\n",
        "* Três lados formam um triângulo quando a soma de quaisquer dois lados for maior que o terceiro;\n",
        "* Triângulo Equilátero: três lados iguais;\n",
        "* Triângulo Isósceles: quaisquer dois lados iguais;\n",
        "* Triângulo Escaleno: três lados diferentes.\n",
        "\n",
        "12. Um estabelecimento está vendendo combustíveis com descontos variados. Para o etanol, se a quantidade comprada for até 15 litros, o desconto será de 2% por litro. Caso contrário, será de 4% por litro. Para o diesel, se a quantidade comprada for até 15 litros, o desconto será de 3% por litro. Caso contrário, será de 5% por litro. O preço do litro de diesel é R$ 2,00 e o preço do litro de etanol é R$ 1,70. Escreva um programa que leia a quantidade de litros vendidos e o tipo de combustível (E para etanol e D para diesel) e calcule o valor a ser pago pelo cliente. Tenha em mente algumas dicas:\n",
        "\n",
        "* O do valor do desconto será a multiplicação entre preço do litro, quantidade de litros e o valor do desconto.\n",
        "* O valor a ser pago por um cliente será o resultado da multiplicação do preço do litro pela quantidade de litros menos o valor de desconto resultante do cálculo.\n",
        "\n",
        "13. Em uma empresa de venda de imóveis você precisa criar um código que analise os dados de vendas anuais para ajudar a diretoria na tomada de decisão. O código precisa coletar os dados de quantidade de venda durante os anos de 2022 e 2023 e fazer um cálculo de variação percentual. A partir do valor da variação, deve ser enviada às seguintes sugestões:\n",
        "\n",
        "* Para variação acima de 20%: bonificação para o time de vendas.\n",
        "* Para variação entre 2% e 20%: pequena bonificação para time de vendas.\n",
        "* Para variação entre 2% e -10%: planejamento de políticas de incentivo às vendas.\n",
        "* Para bonificações abaixo de -10%: corte de gastos."
      ],
      "metadata": {
        "id": "bYJuBuI61FAZ"
      }
    },
    {
      "cell_type": "code",
      "source": [
        "# Exercício 1: Escreva um programa que peça à pessoa usuária para fornecer dois números e exibir o número maior.\n",
        "\n",
        "# Coletar os números\n",
        "n1 = int(input('Me dê 1 número:'))\n",
        "n2 = int(input('Me dê mais 1 número:'))\n",
        "\n",
        "# Comparamos ambos os números e descobrimos qual é o maior\n",
        "if n1 > n2:\n",
        "  print(f'O primeiro número é maior: {n1}')\n",
        "elif n1 < n2:\n",
        "  print(f'O segundo número é maior: {n2}')\n",
        "elif n1 == n2:\n",
        "  print(f'Os dois números são iguais: {n1}')"
      ],
      "metadata": {
        "colab": {
          "base_uri": "https://localhost:8080/"
        },
        "id": "LoGewTgS16Up",
        "outputId": "9bd4ff40-8105-4e6d-a185-1697f985c3a7"
      },
      "execution_count": null,
      "outputs": [
        {
          "output_type": "stream",
          "name": "stdout",
          "text": [
            "Me dê 1 número:1\n",
            "Me dê mais 1 número:2\n",
            "O segundo número é maior: 2\n"
          ]
        }
      ]
    },
    {
      "cell_type": "code",
      "source": [
        "# Exercício 2: Escreva um programa que solicite o percentual de crescimento de produção de uma empresa e informe se houve um crescimento (porcentagem positiva) ou decrescimento (porcentagem negativa).\n",
        "\n",
        "porcentagem = float(input('Qual a porcentagem de crescimento de produção da empresa?'))\n",
        "\n",
        "if porcentagem > 0:\n",
        "  print(f'Houve crescimento de {porcentagem}%')\n",
        "elif porcentagem < 0:\n",
        "  print(f'Houve decrescimento de {porcentagem}%')\n",
        "else:\n",
        "  print(f'Não houve crescimento ou decrescimento')"
      ],
      "metadata": {
        "colab": {
          "base_uri": "https://localhost:8080/"
        },
        "id": "8B-FvHfO7AhI",
        "outputId": "3e399802-9e17-4cf6-e51f-d323b9f78a59"
      },
      "execution_count": null,
      "outputs": [
        {
          "output_type": "stream",
          "name": "stdout",
          "text": [
            "Qual a porcentagem de crescimento de produção da empresa?0\n",
            "Não houve crescimento ou decrescimento\n"
          ]
        }
      ]
    },
    {
      "cell_type": "code",
      "source": [
        "# Exercício 3: Conseguimos verificar se uma letra é vogal ou consoante verificando se o caractere está contido dentro de uma string de vogais através do operador in.\n",
        "\n",
        "# Coletamos a letra da pessoa usuária como minúscula\n",
        "letra = input('Digite uma letra: ').lower()\n",
        "vogais = 'aeiou' # string contendo todos os dados\n",
        "\n",
        "# Verificamos se a letra está nas vogais com in\n",
        "if letra in vogais:\n",
        "    print('A letra é uma vogal.')\n",
        "else:\n",
        "    print('A letra é uma consoante.')"
      ],
      "metadata": {
        "colab": {
          "base_uri": "https://localhost:8080/"
        },
        "id": "9BzlsQUP8LPs",
        "outputId": "361530aa-f271-48b0-9abe-e63893b99f1d"
      },
      "execution_count": null,
      "outputs": [
        {
          "output_type": "stream",
          "name": "stdout",
          "text": [
            "Digite uma letra: t\n",
            "A letra é uma consoante.\n"
          ]
        }
      ]
    },
    {
      "cell_type": "code",
      "source": [
        "# Exercício 4: Escreva um programa que leia valores médios de preços de um modelo de carro por 3 anos consecutivos e exiba o valor mais alto e mais baixo entre esses três anos.\n",
        "\n",
        "# Comparamos cada valor com os outros dois valores referentes aos outros dois anos e determinamos o maior e o menor valor.\n",
        "# Fazemos isso atribuindo, inicialmente, a variável preco_ano1 o valor de maior resultado e, caso um haja valor maior que o pré-estabelecido, a variável maior será trocada.\n",
        "# A mesma lógica é aplicada à verificação do menor valor.\n",
        "\n",
        "# Coletamos os preços dos 3 anos\n",
        "preco_ano1 = float(input('Informe o preço médio do carro no primeiro ano: '))\n",
        "ano1 = int(input('Informe o primeiro ano: '))\n",
        "preco_ano2 = float(input('Informe o preço médio do carro no segundo ano: '))\n",
        "preco_ano3 = float(input('Informe o preço médio do carro no terceiro ano: '))\n",
        "\n",
        "ano2 = ano1 + 1\n",
        "ano3 = ano2 + 1\n",
        "\n",
        "\n",
        "# Determinamos o maior valor através de comparações\n",
        "maior = preco_ano1\n",
        "if preco_ano2 > maior:\n",
        "  maior = preco_ano2\n",
        "if preco_ano3 > maior:\n",
        "  maior = preco_ano3\n",
        "\n",
        "ano_maior = ano1\n",
        "if preco_ano2 > preco_ano1:\n",
        "  ano_maior = ano2\n",
        "if preco_ano3 > preco_ano2:\n",
        "  ano_maior = ano3\n",
        "\n",
        "# Determinamos o menor valor através de comparações\n",
        "menor = preco_ano1\n",
        "if preco_ano2 < menor:\n",
        "  menor = preco_ano2\n",
        "if preco_ano3 < menor:\n",
        "  menor = preco_ano3\n",
        "\n",
        "ano_menor = ano1\n",
        "if preco_ano2 < preco_ano1:\n",
        "  ano_menor = ano2\n",
        "if preco_ano3 < preco_ano2 and preco_ano3 < preco_ano1:\n",
        "  ano_menor = ano3\n",
        "\n",
        "\n",
        "# Mostramos o resultado\n",
        "print(f'O preço mais alto foi de R$ {maior} no ano {ano_maior}')\n",
        "print(f'O preço mais baixo foi de R$ {menor} no ano {ano_menor}')\n"
      ],
      "metadata": {
        "colab": {
          "base_uri": "https://localhost:8080/"
        },
        "id": "TJh25xy_8fXt",
        "outputId": "4afa675c-963f-46fa-9782-8868c8d47153"
      },
      "execution_count": null,
      "outputs": [
        {
          "output_type": "stream",
          "name": "stdout",
          "text": [
            "Informe o preço médio do carro no primeiro ano: 3000\n",
            "Informe o primeiro ano: 2000\n",
            "Informe o preço médio do carro no segundo ano: 2500\n",
            "Informe o preço médio do carro no terceiro ano: 2000\n",
            "O preço mais alto foi de R$ 3000.0 no ano 2000\n",
            "O preço mais baixo foi de R$ 2000.0 no ano 2002\n"
          ]
        }
      ]
    },
    {
      "cell_type": "code",
      "source": [
        "# Exercício 5: Escreva um programa que pergunte sobre o preço de três produtos e indique qual é o produto mais barato para comprar\n",
        "\n",
        "p1 = float(input('Digite o preço do produto 1: '))\n",
        "p2 = float(input('Digite o preço do produto 2: '))\n",
        "p3 = float(input('Digite o preço do produto 3: '))\n",
        "\n",
        "prod1 = 'primeiro'\n",
        "prod2 = 'segundo'\n",
        "prod3 = 'terceiro'\n",
        "\n",
        "if p1 < p2 and p1 < p3:\n",
        "    print('O primeiro produto é o mais barato.')\n",
        "elif p2 < p1 and p2 < p3:\n",
        "    print('O segundo produto é o mais barato.')\n",
        "elif p3 < p1 and p3 < p2:\n",
        "    print('O terceiro produto é o mais barato.')\n",
        "elif p1 == p2 == p3:\n",
        "    print('Os produtos possuem o mesmo preço.')\n",
        "else:\n",
        "    # Identificamos quais produtos possuem o mesmo preço, se for o caso\n",
        "    if p1 == p2:\n",
        "        print('O primeiro e o segundo produtos são os mais baratos.')\n",
        "    elif p2 == p3:\n",
        "        print('O segundo e terceiro produtos são os mais baratos.')\n",
        "    elif p1 == p3:\n",
        "        print('O primeiro e o terceiro produtos são os mais baratos.')\n"
      ],
      "metadata": {
        "colab": {
          "base_uri": "https://localhost:8080/"
        },
        "id": "J9f01xJyOiV5",
        "outputId": "a03e95ec-256a-4488-f27b-54260cc880f7"
      },
      "execution_count": null,
      "outputs": [
        {
          "output_type": "stream",
          "name": "stdout",
          "text": [
            "Digite o preço do produto 1: 2\n",
            "Digite o preço do produto 2: 3\n",
            "Digite o preço do produto 3: 2\n",
            "O primeiro e o terceiro produtos são os mais baratos.\n"
          ]
        }
      ]
    },
    {
      "cell_type": "code",
      "source": [
        "# Exercício 6: Escreva um programa que leia três números e os exiba em ordem decrescente\n",
        "\n"
      ],
      "metadata": {
        "id": "H6NpulunQSGj"
      },
      "execution_count": null,
      "outputs": []
    },
    {
      "cell_type": "markdown",
      "source": [
        "# Estruturas de repetição"
      ],
      "metadata": {
        "id": "aL1vJPewvwvz"
      }
    },
    {
      "cell_type": "markdown",
      "source": [
        "Quando temos que executar um mesmo bloco de comandos por várias vezes não é muito interessante fazer isso à mão.\n",
        "\n",
        "Imaginemos a situação de termos que coletar e imprimir a média de duas notas de **3 estudantes**:"
      ],
      "metadata": {
        "id": "VcPfCa8d-84t"
      }
    },
    {
      "cell_type": "code",
      "source": [
        "nota_1 = float(input('Digite a 1° nota: '))\n",
        "nota_2 = float(input('Digite a 2° nota: '))\n",
        "\n",
        "print(f'Média: {(nota_1+nota_2)/2}')\n",
        "nota_1 = float(input('Digite a 1° nota: '))\n",
        "nota_2 = float(input('Digite a 2° nota: '))\n",
        "\n",
        "print(f'Média: {(nota_1+nota_2)/2}')\n",
        "nota_1 = float(input('Digite a 1° nota: '))\n",
        "nota_2 = float(input('Digite a 2° nota: '))\n",
        "\n",
        "print(f'Média: {(nota_1+nota_2)/2}')"
      ],
      "metadata": {
        "id": "pPQVHD3-5YSf",
        "colab": {
          "base_uri": "https://localhost:8080/"
        },
        "outputId": "4d3aba42-6c0c-4370-b887-77d07ffe41e7"
      },
      "execution_count": null,
      "outputs": [
        {
          "output_type": "stream",
          "name": "stdout",
          "text": [
            "Digite a 1° nota: 6\n",
            "Digite a 2° nota: 6\n",
            "Média: 6.0\n",
            "Digite a 1° nota: 7\n",
            "Digite a 2° nota: 8\n",
            "Média: 7.5\n",
            "Digite a 1° nota: 4\n",
            "Digite a 2° nota: 8\n",
            "Média: 6.0\n"
          ]
        }
      ]
    },
    {
      "cell_type": "markdown",
      "source": [
        "Agora imaginemos uma situação em que não são apenas 3 estudantes, mas sim 100 estudantes. Não seria interessante repetir o mesmo código por 100 vezes, mas sim **executar o mesmo código 100 vezes**.\n",
        "\n",
        "Essa repetição conseguimos construir com laços de repetição!"
      ],
      "metadata": {
        "id": "9puIuvUbFSFX"
      }
    },
    {
      "cell_type": "markdown",
      "source": [
        "## `WHILE`"
      ],
      "metadata": {
        "id": "uLO9-aE4-wx8"
      }
    },
    {
      "cell_type": "markdown",
      "source": [
        "O laço `while` é uma estrutura de controle de repetição em Python que permite executar um bloco de código repetidamente enquanto uma determinada condição é verdadeira. Sua estrutura é:\n",
        "\n",
        "\n",
        "\n",
        "```\n",
        "while condição:\n",
        "    # bloco de código\n",
        "```\n",
        "\n",
        "Vamos construir um exemplo com um contador de 1 até 10.\n"
      ],
      "metadata": {
        "id": "rXZxDMiqHxm9"
      }
    },
    {
      "cell_type": "code",
      "source": [
        "contador = 1\n",
        "while contador <= 10:\n",
        "  print(contador)\n",
        "  contador += 1"
      ],
      "metadata": {
        "colab": {
          "base_uri": "https://localhost:8080/"
        },
        "id": "sRWtjpqs0hyk",
        "outputId": "4d457fd8-3b8f-4e87-ec61-a01f31efda4f"
      },
      "execution_count": null,
      "outputs": [
        {
          "output_type": "stream",
          "name": "stdout",
          "text": [
            "1\n",
            "2\n",
            "3\n",
            "4\n",
            "5\n",
            "6\n",
            "7\n",
            "8\n",
            "9\n",
            "10\n"
          ]
        }
      ]
    },
    {
      "cell_type": "markdown",
      "source": [
        "Agora vamos coletar as notas e médias de cada aluno dentro do while. Faremos um exemplo com 3 médias."
      ],
      "metadata": {
        "id": "W4KZPBJuIrut"
      }
    },
    {
      "cell_type": "code",
      "source": [
        "contador = 1\n",
        "while contador <= 3:\n",
        "  nota_1 = float(input('Digite a 1° nota: '))\n",
        "  nota_2 = float(input('Digite a 2° nota: '))\n",
        "\n",
        "  print(f'Média: {(nota_1+nota_2)/2}')\n",
        "  contador += 1"
      ],
      "metadata": {
        "id": "jUZ5_55S7y19",
        "colab": {
          "base_uri": "https://localhost:8080/"
        },
        "outputId": "f7381936-eb11-4822-e1a5-e19cb7fcd3b9"
      },
      "execution_count": null,
      "outputs": [
        {
          "output_type": "stream",
          "name": "stdout",
          "text": [
            "Digite a 1° nota: 5\n",
            "Digite a 2° nota: 6\n",
            "Média: 5.5\n",
            "Digite a 1° nota: 7\n",
            "Digite a 2° nota: 9\n",
            "Média: 8.0\n",
            "Digite a 1° nota: 4\n",
            "Digite a 2° nota: 4\n",
            "Média: 4.0\n"
          ]
        }
      ]
    },
    {
      "cell_type": "markdown",
      "source": [
        "## `FOR`"
      ],
      "metadata": {
        "id": "WgAIaENMMfCP"
      }
    },
    {
      "cell_type": "markdown",
      "source": [
        "O laço `for` é um tipo de estrutura de controle de fluxo em Python que permite iterar sobre um conjunto de elementos. A sua estrutura é:\n",
        "\n",
        "\n",
        "\n",
        "```\n",
        "for elemento in conjunto:\n",
        "    # código a ser executado para cada elemento\n",
        "```\n",
        "\n",
        "O laço for itera sobre cada elemento do conjunto especificado e executa o bloco de código dentro do laço para cada elemento. Quando o laço chega ao final do conjunto, ele é interrompido e o programa continua a execução após o laço.\n",
        "\n"
      ],
      "metadata": {
        "id": "HxrSZoRAMh-x"
      }
    },
    {
      "cell_type": "markdown",
      "source": [
        "O conjunto pode ser gerado com a função [`range()`](https://docs.python.org/3/library/functions.html#func-range). Que é uma função capaz de gerar uma sequência de números inteiros. A estrutura dessa função é:\n",
        "\n",
        "```\n",
        "range(inicio, fim, passo)\n",
        "```\n",
        "\n",
        "Segundo a documentação, o `range()` gera uma sequência de números inteiros a partir do valor do parâmetro `inicio` até o valor do parâmetro `fim`, de acordo com o valor do parâmetro `passo`. Se `inicio` não for especificado, o valor padrão é 0. Se `passo` não for especificado, o valor padrão é 1.\n",
        "\n",
        "\n"
      ],
      "metadata": {
        "id": "6VgjyoQtPHBM"
      }
    },
    {
      "cell_type": "code",
      "source": [
        "for n in range(3, 22, 3):\n",
        "  print(n)"
      ],
      "metadata": {
        "colab": {
          "base_uri": "https://localhost:8080/"
        },
        "id": "DIlVtkbioYZL",
        "outputId": "31b4d094-2b45-4f5c-be74-54de380febee"
      },
      "execution_count": null,
      "outputs": [
        {
          "output_type": "stream",
          "name": "stdout",
          "text": [
            "3\n",
            "6\n",
            "9\n",
            "12\n",
            "15\n",
            "18\n",
            "21\n"
          ]
        }
      ]
    },
    {
      "cell_type": "markdown",
      "source": [
        "Vamos fazer o mesmo contador `while` agora com `for`."
      ],
      "metadata": {
        "id": "ryn0hfdlUwC8"
      }
    },
    {
      "cell_type": "code",
      "source": [
        "for contador in range(1,11):\n",
        "  print(contador)"
      ],
      "metadata": {
        "id": "jeQB_pYL71tc",
        "colab": {
          "base_uri": "https://localhost:8080/"
        },
        "outputId": "1297f53a-b798-4f2f-c805-eb832eb8a380"
      },
      "execution_count": null,
      "outputs": [
        {
          "output_type": "stream",
          "name": "stdout",
          "text": [
            "1\n",
            "2\n",
            "3\n",
            "4\n",
            "5\n",
            "6\n",
            "7\n",
            "8\n",
            "9\n",
            "10\n"
          ]
        }
      ]
    },
    {
      "cell_type": "code",
      "source": [
        "for contador in range(1,4):\n",
        "  nota_1 = float(input('Digite a 1° nota: '))\n",
        "  nota_2 = float(input('Digite a 2° nota: '))\n",
        "\n",
        "  print(f'Média: {(nota_1+nota_2)/2}')"
      ],
      "metadata": {
        "id": "1lRU-1xH73JR",
        "colab": {
          "base_uri": "https://localhost:8080/"
        },
        "outputId": "622a23c3-f332-4a8e-8b51-d9713c1e4d0b"
      },
      "execution_count": null,
      "outputs": [
        {
          "output_type": "stream",
          "name": "stdout",
          "text": [
            "Digite a 1° nota: 4\n",
            "Digite a 2° nota: 5\n",
            "Média: 4.5\n",
            "Digite a 1° nota: 6\n",
            "Digite a 2° nota: 7\n",
            "Média: 6.5\n",
            "Digite a 1° nota: 5\n",
            "Digite a 2° nota: 6\n",
            "Média: 5.5\n"
          ]
        }
      ]
    },
    {
      "cell_type": "markdown",
      "source": [
        "O continue e o break são os comandos de controle que podemos executar com for e while.\n",
        "\n",
        "O continue interrompe a iteração atual do laço e salta para a próxima, ou seja, retorna ao início do código. Como exemplo, temos um código de contagem de 1 a 5 com for:"
      ],
      "metadata": {
        "id": "0EeXBxWTrXkK"
      }
    },
    {
      "cell_type": "code",
      "source": [
        "for i in range(1,6):\n",
        "    if i == 4:\n",
        "        continue\n",
        "    print(i)"
      ],
      "metadata": {
        "colab": {
          "base_uri": "https://localhost:8080/"
        },
        "id": "37Bs5gkWrTaw",
        "outputId": "bc7f63d6-c471-4270-c0a6-2c37c5cfb6de"
      },
      "execution_count": null,
      "outputs": [
        {
          "output_type": "stream",
          "name": "stdout",
          "text": [
            "1\n",
            "2\n",
            "3\n",
            "5\n"
          ]
        }
      ]
    },
    {
      "cell_type": "markdown",
      "source": [
        "Esse código imprime todos os números de 1 a 5, exceto o 4. Quando o valor de i for 4, o continue salta para a próxima iteração, ignorando o comando print abaixo da condicional na iteração atual.\n",
        "\n",
        "Já o break interrompe a execução do laço completamente, saindo do bloco de código. Vamos usar o mesmo exemplo de contagem, mas agora colocaremos o break:"
      ],
      "metadata": {
        "id": "ZvTsEqLjrdDt"
      }
    },
    {
      "cell_type": "code",
      "source": [
        "for i in range(1,6):\n",
        "    if i == 4:\n",
        "        break\n",
        "    print(i)"
      ],
      "metadata": {
        "colab": {
          "base_uri": "https://localhost:8080/"
        },
        "id": "FMcENxh4rfdm",
        "outputId": "98f40297-3f91-44ed-ebcc-300d2cb19aca"
      },
      "execution_count": null,
      "outputs": [
        {
          "output_type": "stream",
          "name": "stdout",
          "text": [
            "1\n",
            "2\n",
            "3\n"
          ]
        }
      ]
    },
    {
      "cell_type": "markdown",
      "source": [
        "# Estruturas de dados"
      ],
      "metadata": {
        "id": "8noP8OJ0Vhux"
      }
    },
    {
      "cell_type": "markdown",
      "source": [
        "Um conjunto de elementos é uma coleção de itens, que são armazenados juntos de maneira organizada. Alguns exemplos de conjuntos de elementos em Python são listas, strings e dicionários."
      ],
      "metadata": {
        "id": "xpEUkefTu8fY"
      }
    },
    {
      "cell_type": "markdown",
      "source": [
        "## Listas"
      ],
      "metadata": {
        "id": "THSg4KYLwxIb"
      }
    },
    {
      "cell_type": "markdown",
      "source": [
        "As listas podem armazenar uma coleção de itens em ordem. Eles são delimitados por colchetes `[]` e os itens são separados por vírgulas.\n",
        "\n",
        "Elas também podem armazenar qualquer tipo de item, incluindo números, strings, objetos e outras listas. Elas também podem armazenar itens de tipos de dados diferentes juntos em uma única lista."
      ],
      "metadata": {
        "id": "dzpsiqrOyJcK"
      }
    },
    {
      "cell_type": "code",
      "source": [
        "lista = ['Fabricio Daniel',9.5,9.0,8.0,True]\n",
        "type(lista)"
      ],
      "metadata": {
        "id": "DO3TBj7nAYeG",
        "colab": {
          "base_uri": "https://localhost:8080/"
        },
        "outputId": "536b34b9-bf85-43ea-a5b1-777e27e5a417"
      },
      "execution_count": null,
      "outputs": [
        {
          "output_type": "execute_result",
          "data": {
            "text/plain": [
              "list"
            ]
          },
          "metadata": {},
          "execution_count": 16
        }
      ]
    },
    {
      "cell_type": "markdown",
      "source": [
        "As listas são organizadas em Python porque **cada elemento da lista tem um índice que indica sua posição na lista**. Os índices começam em 0 e vão até o tamanho da lista menos 1."
      ],
      "metadata": {
        "id": "qUz3sJNl6LgK"
      }
    },
    {
      "cell_type": "markdown",
      "source": [
        "Temos então 5 elementos com índices variando de 0 a 4, ordenadamente:\n",
        "\n",
        "```\n",
        "#             [0]           [1]   [2]   [3]    [4]\n",
        "lista = ['Fabricio Daniel', 9.5 , 9.0 , 8.0 , True]\n",
        "```\n",
        "\n",
        "Em Python temos também os índices **negativos** que se iniciam no último elemento com o valor de `-1` e depois avancam no universo dos negativos até chegar no 1° elemeno:\n",
        "\n",
        "```\n",
        "#             [-5]         [-4]  [-3]  [-2]   [-1]\n",
        "lista = ['Fabricio Daniel', 9.5 , 9.0 , 8.0 , True]\n",
        "```\n",
        "\n",
        "Conseguimos selecionar separadamente cada elemento através de seus respectivos índices. Colocando o nome da lista e em seguida o índice a ser selecionado."
      ],
      "metadata": {
        "id": "rLf-Qg526hFD"
      }
    },
    {
      "cell_type": "code",
      "source": [
        "lista[0]"
      ],
      "metadata": {
        "id": "1IVlFngEA7Dd",
        "colab": {
          "base_uri": "https://localhost:8080/",
          "height": 35
        },
        "outputId": "4b8e5228-6f9b-41c0-c0e3-0c4341bdb572"
      },
      "execution_count": null,
      "outputs": [
        {
          "output_type": "execute_result",
          "data": {
            "text/plain": [
              "'Fabricio Daniel'"
            ],
            "application/vnd.google.colaboratory.intrinsic+json": {
              "type": "string"
            }
          },
          "metadata": {},
          "execution_count": 7
        }
      ]
    },
    {
      "cell_type": "code",
      "source": [
        "lista[1]"
      ],
      "metadata": {
        "id": "W0Od6JGyA64R",
        "colab": {
          "base_uri": "https://localhost:8080/"
        },
        "outputId": "d0ac68f6-83c0-4cbe-9d2c-74079f40b084"
      },
      "execution_count": null,
      "outputs": [
        {
          "output_type": "execute_result",
          "data": {
            "text/plain": [
              "9.5"
            ]
          },
          "metadata": {},
          "execution_count": 8
        }
      ]
    },
    {
      "cell_type": "code",
      "source": [
        "lista[-1]"
      ],
      "metadata": {
        "id": "m9pA1u7JA6sz",
        "colab": {
          "base_uri": "https://localhost:8080/"
        },
        "outputId": "7146a743-4a29-4837-b93c-a6c51d5e2edc"
      },
      "execution_count": null,
      "outputs": [
        {
          "output_type": "execute_result",
          "data": {
            "text/plain": [
              "True"
            ]
          },
          "metadata": {},
          "execution_count": 9
        }
      ]
    },
    {
      "cell_type": "markdown",
      "source": [
        "Uma forma mais dinâmica de trabalhar item por item de uma lista é utilizando um laço for para leitura elemento a elemento."
      ],
      "metadata": {
        "id": "6TaE1ijmBTCd"
      }
    },
    {
      "cell_type": "code",
      "source": [
        "for elemento in lista:\n",
        "  print(elemento)"
      ],
      "metadata": {
        "id": "3oG8mflrA--y",
        "colab": {
          "base_uri": "https://localhost:8080/"
        },
        "outputId": "d7aa6f86-22e4-4475-decc-731106e30702"
      },
      "execution_count": null,
      "outputs": [
        {
          "output_type": "stream",
          "name": "stdout",
          "text": [
            "Fabricio Daniel\n",
            "9.5\n",
            "9.0\n",
            "8.0\n",
            "True\n"
          ]
        }
      ]
    },
    {
      "cell_type": "markdown",
      "source": [
        "A nota `8.0` de Fabricio Daniel precisa ser ajustada pois ganhou 2 pontos em sua ultima nota por fazer um trabalho de turma. Então é necessária fazer uma troca no valor do índice `3` de `8.0` para `10.0`."
      ],
      "metadata": {
        "id": "Dh1_HnIVvucY"
      }
    },
    {
      "cell_type": "code",
      "source": [
        "lista[3] = 10.0\n",
        "lista"
      ],
      "metadata": {
        "id": "Grd0wTBtBA6j",
        "colab": {
          "base_uri": "https://localhost:8080/"
        },
        "outputId": "62ccd6a7-6625-4cf1-f080-0cea8d8461e3"
      },
      "execution_count": null,
      "outputs": [
        {
          "output_type": "execute_result",
          "data": {
            "text/plain": [
              "['Fabricio Daniel', 9.5, 9.0, 10.0, True]"
            ]
          },
          "metadata": {},
          "execution_count": 14
        }
      ]
    },
    {
      "cell_type": "markdown",
      "source": [
        "conseguimos calcular a média do aluno a partir dos dados que temos"
      ],
      "metadata": {
        "id": "53XduzXkycAf"
      }
    },
    {
      "cell_type": "code",
      "source": [
        "media = (lista[1] + lista[2] + lista[3])/3\n",
        "media"
      ],
      "metadata": {
        "id": "OfyKoqS3BDWR",
        "colab": {
          "base_uri": "https://localhost:8080/"
        },
        "outputId": "65d60d7d-6227-447d-b509-6f3a19af6a5e"
      },
      "execution_count": null,
      "outputs": [
        {
          "output_type": "execute_result",
          "data": {
            "text/plain": [
              "9.5"
            ]
          },
          "metadata": {},
          "execution_count": 15
        }
      ]
    },
    {
      "cell_type": "markdown",
      "source": [
        "Como visto em aulas passadas, string é um tipo de dado que corresponde a um dado textual. Quando criamos uma string, estamos agrupando vários caracteres (números, letras e até símbolos) e cada um deles tem seus índices. Como exemplo, vamos criar uma string com o nome Python:"
      ],
      "metadata": {
        "id": "6bu1lcjm2Iwb"
      }
    },
    {
      "cell_type": "code",
      "source": [
        "linguagem = 'Python'\n",
        "\n",
        "print(linguagem[0], linguagem[1], linguagem[2], linguagem[-3], linguagem[-2], linguagem[-1])"
      ],
      "metadata": {
        "colab": {
          "base_uri": "https://localhost:8080/"
        },
        "id": "_VSA19Jm2MCq",
        "outputId": "0ebd670f-85ae-4b89-d38d-4cb56dcdaddb"
      },
      "execution_count": null,
      "outputs": [
        {
          "output_type": "stream",
          "name": "stdout",
          "text": [
            "P y t h o n\n"
          ]
        }
      ]
    },
    {
      "cell_type": "markdown",
      "source": [
        "No entanto, os índices servem apenas para acessar os dados, não sendo possível alterar o caractere presente em um índice definido através de uma simples atribuição, como nas listas. Por exemplo, o código linguagem[0] = 'p' gera um erro na compilação.\n",
        "\n",
        "Com isso, podemos pensar que a string é uma estrutura de dados da mesma forma que as listas, certo? Na verdade, não. A string é uma sequência de caracteres (letras, números, símbolos, etc.) representada por uma única variável. Já uma estrutura de dados armazena uma coleção de itens (podendo ser de tipos diferentes) em uma única variável.\n",
        "\n",
        "Mesmo assim, é possível transformar uma string em uma lista através do método split(). Esse método separa a string em uma lista de strings, usando um delimitador especificado entre parênteses. Esse delimitador precisa ser uma string. Como exemplo, vamos transformar a string em lista separando-a cada vez que aparece o ponto de interrogação ?:"
      ],
      "metadata": {
        "id": "QvWvOrCv204q"
      }
    },
    {
      "cell_type": "code",
      "source": [
        "duvida = 'Quem veio antes? O ovo? Ou foi a serpente?'\n",
        "lista_palavras = duvida.split('?')\n",
        "print(lista_palavras)"
      ],
      "metadata": {
        "colab": {
          "base_uri": "https://localhost:8080/"
        },
        "id": "04g50yi322NJ",
        "outputId": "cee4706b-82ad-4eae-b28f-8023080d244d"
      },
      "execution_count": null,
      "outputs": [
        {
          "output_type": "stream",
          "name": "stdout",
          "text": [
            "['Quem veio antes', ' O ovo', ' Ou foi a serpente', '']\n"
          ]
        }
      ]
    },
    {
      "cell_type": "markdown",
      "source": [
        "O delimitador não aparece na separação. Caso ele não seja definido, a string será segregada por todos os espaços em branco no texto."
      ],
      "metadata": {
        "id": "0_vIvfM43Joh"
      }
    },
    {
      "cell_type": "code",
      "source": [
        "duvida = 'Quem veio antes? O ovo? Ou foi a serpente?'\n",
        "lista_palavras = duvida.split()\n",
        "print(lista_palavras)"
      ],
      "metadata": {
        "colab": {
          "base_uri": "https://localhost:8080/"
        },
        "id": "YWkzJgpw3Mab",
        "outputId": "d5a3459c-0208-4867-c7b2-a59f7882489d"
      },
      "execution_count": null,
      "outputs": [
        {
          "output_type": "stream",
          "name": "stdout",
          "text": [
            "['Quem', 'veio', 'antes?', 'O', 'ovo?', 'Ou', 'foi', 'a', 'serpente?']\n"
          ]
        }
      ]
    },
    {
      "cell_type": "markdown",
      "source": [
        "O contrário também acontece, pois podemos transformar uma lista em uma string através do método join(). Para usar a função, precisamos definir o caractere unificador que será utilizado para unir os elementos da lista, formando a string. Em seguida, usamos o método join passando a lista como argumento. Vamos fazer um exemplo com uma lista contendo o resultado de algumas misturas de cores primárias em tintas:"
      ],
      "metadata": {
        "id": "79zy3QyK3S4_"
      }
    },
    {
      "cell_type": "code",
      "source": [
        "misturas = ['Tintas: vermelho, azul e amarelo',\n",
        "            'Verde: mistura de azul e amarelo',\n",
        "            'Laranja: mistura de vermelho e amarelo',\n",
        "            'Roxo: mistura de vermelho e azul']\n",
        "unificador = '. '\n",
        "string_misturas = unificador.join(misturas)\n",
        "print(string_misturas)"
      ],
      "metadata": {
        "colab": {
          "base_uri": "https://localhost:8080/"
        },
        "id": "2MytqDSI3Tny",
        "outputId": "23dd8f18-eed9-476b-8d97-9db0746d6b46"
      },
      "execution_count": null,
      "outputs": [
        {
          "output_type": "stream",
          "name": "stdout",
          "text": [
            "Tintas: vermelho, azul e amarelo. Verde: mistura de azul e amarelo. Laranja: mistura de vermelho e amarelo. Roxo: mistura de vermelho e azul\n"
          ]
        }
      ]
    },
    {
      "cell_type": "markdown",
      "source": [
        "## Manipulação de listas\n",
        "\n",
        "As listas são muito úteis em Python porque permitem armazenar e acessar uma coleção de itens de maneira organizada e rápida. Elas também oferecem muitos métodos úteis para manipular os itens armazenados, como adicionar, remover, classificar e pesquisar elementos."
      ],
      "metadata": {
        "id": "d-iYr10-y4qw"
      }
    },
    {
      "cell_type": "markdown",
      "source": [
        "#### Quantidade de elementos\n",
        "\n",
        "Usamos a função [`len()`](https://docs.python.org/3/library/functions.html#len) para descobrimos a quantidade de elementos de um conjunto."
      ],
      "metadata": {
        "id": "ZLqx9A97XVB_"
      }
    },
    {
      "cell_type": "code",
      "source": [
        "len(lista)"
      ],
      "metadata": {
        "id": "bfwZdet8BtfO",
        "colab": {
          "base_uri": "https://localhost:8080/"
        },
        "outputId": "414bea2f-5277-4f6a-c5a8-a842e7b5f215"
      },
      "execution_count": null,
      "outputs": [
        {
          "output_type": "execute_result",
          "data": {
            "text/plain": [
              "9"
            ]
          },
          "metadata": {},
          "execution_count": 29
        }
      ]
    },
    {
      "cell_type": "markdown",
      "source": [
        "#### Partição\n",
        "\n",
        "A partição de listas por indexação em Python é uma técnica muito útil para selecionar um subconjunto de elementos de uma lista. Ela é feita usando a sintaxe `lista[inicio:fim]`, onde `inicio` é o índice do primeiro elemento a ser incluído na partição e `fim` é o índice do primeiro elemento a ser excluído da partição."
      ],
      "metadata": {
        "id": "Z5tpstlHJss3"
      }
    },
    {
      "cell_type": "code",
      "source": [
        "lista[1:4]"
      ],
      "metadata": {
        "id": "zeyUXL4qBwRV",
        "colab": {
          "base_uri": "https://localhost:8080/"
        },
        "outputId": "3839e886-7cf0-425f-818e-a07a1c2654df"
      },
      "execution_count": null,
      "outputs": [
        {
          "output_type": "execute_result",
          "data": {
            "text/plain": [
              "[9.5, 9.0, 10.0]"
            ]
          },
          "metadata": {},
          "execution_count": 17
        }
      ]
    },
    {
      "cell_type": "code",
      "source": [
        "lista[1:3]"
      ],
      "metadata": {
        "id": "PRtYur9uBwGF",
        "colab": {
          "base_uri": "https://localhost:8080/"
        },
        "outputId": "307d120f-0914-4419-9927-c5911d824b09"
      },
      "execution_count": null,
      "outputs": [
        {
          "output_type": "execute_result",
          "data": {
            "text/plain": [
              "[9.5, 9.0]"
            ]
          },
          "metadata": {},
          "execution_count": 18
        }
      ]
    },
    {
      "cell_type": "code",
      "source": [
        "lista[:3]"
      ],
      "metadata": {
        "id": "XvOx5kuMBv9U",
        "colab": {
          "base_uri": "https://localhost:8080/"
        },
        "outputId": "a75468bb-7b1f-4e2c-876c-ca638d30dcc6"
      },
      "execution_count": null,
      "outputs": [
        {
          "output_type": "execute_result",
          "data": {
            "text/plain": [
              "['Fabricio Daniel', 9.5, 9.0]"
            ]
          },
          "metadata": {},
          "execution_count": 19
        }
      ]
    },
    {
      "cell_type": "code",
      "source": [
        "lista[3:]"
      ],
      "metadata": {
        "id": "s-e8X-p8Bvzb",
        "colab": {
          "base_uri": "https://localhost:8080/"
        },
        "outputId": "90b716c8-8580-4f5a-df2b-9b88a260ed17"
      },
      "execution_count": null,
      "outputs": [
        {
          "output_type": "execute_result",
          "data": {
            "text/plain": [
              "[10.0, True]"
            ]
          },
          "metadata": {},
          "execution_count": 20
        }
      ]
    },
    {
      "cell_type": "code",
      "source": [
        "lista[:]"
      ],
      "metadata": {
        "id": "9CuJGncuB6RA",
        "colab": {
          "base_uri": "https://localhost:8080/"
        },
        "outputId": "6e44865f-3816-48c1-9778-04e6fc700744"
      },
      "execution_count": null,
      "outputs": [
        {
          "output_type": "execute_result",
          "data": {
            "text/plain": [
              "['Fabricio Daniel', 9.5, 9.0, 10.0, True]"
            ]
          },
          "metadata": {},
          "execution_count": 21
        }
      ]
    },
    {
      "cell_type": "markdown",
      "source": [
        "#### [`append()`](https://docs.python.org/3/tutorial/datastructures.html#:~:text=of%20list%20objects%3A-,list.append(x),-Add%20an%20item)\n",
        "\n",
        "Adiciona um elemento ao final da lista."
      ],
      "metadata": {
        "id": "O0RRyabkRzZC"
      }
    },
    {
      "cell_type": "code",
      "source": [
        "lista.append(media)\n",
        "lista"
      ],
      "metadata": {
        "id": "mNXTjF4SCnwY",
        "colab": {
          "base_uri": "https://localhost:8080/"
        },
        "outputId": "6a65e62d-a013-4890-dd16-be7405b79a40"
      },
      "execution_count": null,
      "outputs": [
        {
          "output_type": "execute_result",
          "data": {
            "text/plain": [
              "['Fabricio Daniel', 9.5, 9.0, 10.0, True, 9.5]"
            ]
          },
          "metadata": {},
          "execution_count": 22
        }
      ]
    },
    {
      "cell_type": "markdown",
      "source": [
        "#### [`extend()`](https://docs.python.org/3/tutorial/datastructures.html#:~:text=list.extend(iterable))\n",
        "\n",
        "Adiciona vários elementos ao final da lista.\n",
        "\n",
        "Adicionaremos as notas `[10.0,8.0,9.0]` na lista do Fabricio Daniel"
      ],
      "metadata": {
        "id": "uQV91XMsUOJD"
      }
    },
    {
      "cell_type": "code",
      "source": [
        "lista.extend([10.0,8.0,9.0])\n",
        "lista"
      ],
      "metadata": {
        "id": "uAZsOk5JCo9J",
        "colab": {
          "base_uri": "https://localhost:8080/"
        },
        "outputId": "5011fd65-8862-4d71-f7c9-e698e13c3f4b"
      },
      "execution_count": null,
      "outputs": [
        {
          "output_type": "execute_result",
          "data": {
            "text/plain": [
              "['Fabricio Daniel', 9.5, 9.0, 10.0, True, 9.5, 10.0, 8.0, 9.0]"
            ]
          },
          "metadata": {},
          "execution_count": 23
        }
      ]
    },
    {
      "cell_type": "markdown",
      "source": [
        "*Isso não é possivel ser feito com o* `append`."
      ],
      "metadata": {
        "id": "IVJvkTwNUk6M"
      }
    },
    {
      "cell_type": "code",
      "source": [
        "lista.append([10.0,8.0,9.0])\n",
        "lista"
      ],
      "metadata": {
        "id": "Lu5Uxhn6C3QT",
        "colab": {
          "base_uri": "https://localhost:8080/"
        },
        "outputId": "dbb8c428-9c50-471b-b58b-3a1f170a1dc4"
      },
      "execution_count": null,
      "outputs": [
        {
          "output_type": "execute_result",
          "data": {
            "text/plain": [
              "['Fabricio Daniel',\n",
              " 9.5,\n",
              " 9.0,\n",
              " 10.0,\n",
              " True,\n",
              " 9.5,\n",
              " 10.0,\n",
              " 8.0,\n",
              " 9.0,\n",
              " [10.0, 8.0, 9.0]]"
            ]
          },
          "metadata": {},
          "execution_count": 27
        }
      ]
    },
    {
      "cell_type": "code",
      "source": [
        "lista2 = [10, 5.5, 7]\n",
        "\n",
        "lista.extend(lista2)\n",
        "lista"
      ],
      "metadata": {
        "colab": {
          "base_uri": "https://localhost:8080/"
        },
        "id": "aj8W06SKCf2O",
        "outputId": "aa466f81-c6ed-4889-c1ef-c8f908795f90"
      },
      "execution_count": null,
      "outputs": [
        {
          "output_type": "execute_result",
          "data": {
            "text/plain": [
              "['Fabricio Daniel', 9.5, 9.0, 8.0, True, [10, 5.5, 7], 10, 5.5, 7]"
            ]
          },
          "metadata": {},
          "execution_count": 28
        }
      ]
    },
    {
      "cell_type": "markdown",
      "source": [
        "#### [`remove()`](https://docs.python.org/3/tutorial/datastructures.html#:~:text=append(x).-,list.remove(x),-Remove%20the%20first)\n",
        "\n",
        "Remove um elemento específico da lista."
      ],
      "metadata": {
        "id": "dPGM5gpyUX1z"
      }
    },
    {
      "cell_type": "code",
      "source": [
        "lista.remove(lista[3])\n",
        "lista"
      ],
      "metadata": {
        "id": "AqXhhh4_DJBO",
        "colab": {
          "base_uri": "https://localhost:8080/"
        },
        "outputId": "2d6e1907-95b1-4d0d-a9aa-5db67440945f"
      },
      "execution_count": null,
      "outputs": [
        {
          "output_type": "execute_result",
          "data": {
            "text/plain": [
              "['Fabricio Daniel', 9.5, 9.0, True, 10, 5.5, 7]"
            ]
          },
          "metadata": {},
          "execution_count": 33
        }
      ]
    },
    {
      "cell_type": "markdown",
      "source": [
        "Estudamos alguns métodos em aula e, além deles, podemos usar outros para manipular listas em Python. Vamos conhecê-los e ver exemplos de sua construção. Para todos os casos usaremos a lista raca_caes a seguir:"
      ],
      "metadata": {
        "id": "TAYd5dWjDwmG"
      }
    },
    {
      "cell_type": "code",
      "source": [
        "raca_caes = ['Labrador Retriever',\n",
        "             'Bulldog Francês',\n",
        "             'Pastor Alemão',\n",
        "             'Poodle']"
      ],
      "metadata": {
        "id": "_e262rd5Dybh"
      },
      "execution_count": null,
      "outputs": []
    },
    {
      "cell_type": "markdown",
      "source": [
        "O primeiro método é o insert() que insere o elemento em uma determinada posição da lista. Para isso, seguimos a sintaxe lista.insert(indice, elemento), na qual lista é a lista que vai receber o novo elemento, indice é o índice onde será inserido o novo elemento e elemento é o novo elemento a ser inserido."
      ],
      "metadata": {
        "id": "nautFmlRD08i"
      }
    },
    {
      "cell_type": "code",
      "source": [
        "raca_caes.insert(1, 'Golden Retriever')\n",
        "raca_caes"
      ],
      "metadata": {
        "colab": {
          "base_uri": "https://localhost:8080/"
        },
        "id": "MoaC-a7fD3ai",
        "outputId": "317952ff-b7dc-4ef0-949b-1bfe84f52b6e"
      },
      "execution_count": null,
      "outputs": [
        {
          "output_type": "execute_result",
          "data": {
            "text/plain": [
              "['Poodle',\n",
              " 'Golden Retriever',\n",
              " [10, 5.5, 7],\n",
              " 'Pastor Alemão',\n",
              " 'Labrador Retriever',\n",
              " 'Bulldog Francês']"
            ]
          },
          "metadata": {},
          "execution_count": 41
        }
      ]
    },
    {
      "cell_type": "markdown",
      "source": [
        "Seguindo esse pensamento, a estrutura lista.insert(len(lista), elemento) corresponde ao uso do método append, como vimos no vídeo anterior intitulado Manipulação de listas.\n",
        "\n",
        "O método pop() remove o elemento de uma determinada posição da lista e o retorna como saída na execução do método. Nele só precisamos especificar, nos parênteses, qual o índice do elemento que queremos remover e ele será apagado da lista. Portanto, vamos remover a raça Golden Retriever que adicionamos no método anterior."
      ],
      "metadata": {
        "id": "TER8G2COEFAo"
      }
    },
    {
      "cell_type": "code",
      "source": [
        "raca_caes.pop(2)\n",
        "raca_caes"
      ],
      "metadata": {
        "colab": {
          "base_uri": "https://localhost:8080/"
        },
        "id": "FhtQIZnxEGNB",
        "outputId": "c47e3154-fa24-422d-c26a-34cdd517a7fa"
      },
      "execution_count": null,
      "outputs": [
        {
          "output_type": "execute_result",
          "data": {
            "text/plain": [
              "['Poodle', 'Golden Retriever', 'Labrador Retriever', 'Bulldog Francês']"
            ]
          },
          "metadata": {},
          "execution_count": 43
        }
      ]
    },
    {
      "cell_type": "markdown",
      "source": [
        "O método index() retorna o índice de um elemento específico na lista. Para isso, especificamos o elemento entre parênteses. Para identificar o índice da raça Pastor Alemão na lista, fazemos:"
      ],
      "metadata": {
        "id": "zrkthkudEOCJ"
      }
    },
    {
      "cell_type": "code",
      "source": [
        "raca_caes.index('Pastor Alemão')"
      ],
      "metadata": {
        "colab": {
          "base_uri": "https://localhost:8080/"
        },
        "id": "bVQHx26vEOph",
        "outputId": "feef6faf-8be8-4196-e641-2adb2afd5f3c"
      },
      "execution_count": null,
      "outputs": [
        {
          "output_type": "execute_result",
          "data": {
            "text/plain": [
              "2"
            ]
          },
          "metadata": {},
          "execution_count": 37
        }
      ]
    },
    {
      "cell_type": "markdown",
      "source": [
        "O método sort() organiza os elementos da lista em ordem crescente ou decrescente. Caso sejam palavras, a ordem é dada por sequência alfabética ou inversa à ela. Para ordenar os valores, podemos apenas declarar o método sort que a lista será organizada em ordem. Para ordenar alfabeticamente a lista raca_caes temos o seguinte código:"
      ],
      "metadata": {
        "id": "HzXVU9ByES2I"
      }
    },
    {
      "cell_type": "code",
      "source": [
        "raca_caes.sort()\n",
        "raca_caes"
      ],
      "metadata": {
        "colab": {
          "base_uri": "https://localhost:8080/"
        },
        "id": "OPuoqI85EncK",
        "outputId": "880d4399-7251-460d-b69b-e31ebd2460bb"
      },
      "execution_count": null,
      "outputs": [
        {
          "output_type": "execute_result",
          "data": {
            "text/plain": [
              "['Bulldog Francês', 'Labrador Retriever', 'Pastor Alemão', 'Poodle']"
            ]
          },
          "metadata": {},
          "execution_count": 38
        }
      ]
    },
    {
      "cell_type": "code",
      "source": [
        "raca_caes.sort(reverse = True)\n",
        "raca_caes"
      ],
      "metadata": {
        "colab": {
          "base_uri": "https://localhost:8080/"
        },
        "id": "W8SaDJm7E1Hc",
        "outputId": "5d87576e-5bb9-498f-a352-08d58642ad7f"
      },
      "execution_count": null,
      "outputs": [
        {
          "output_type": "execute_result",
          "data": {
            "text/plain": [
              "['Poodle', 'Pastor Alemão', 'Labrador Retriever', 'Bulldog Francês']"
            ]
          },
          "metadata": {},
          "execution_count": 39
        }
      ]
    },
    {
      "cell_type": "markdown",
      "source": [
        "## Dicionário"
      ],
      "metadata": {
        "id": "Rc22Vc08YDZ2"
      }
    },
    {
      "cell_type": "markdown",
      "source": [
        "Os dicionários são um tipo de estrutura de dados que armazenam pares de *chave-valor*. Eles são delimitados por chaves `{}` e os pares *chave-valor* são separados por vírgulas.\n",
        "\n",
        "```\n",
        "dicionário = {chave: valor}\n",
        "```\n",
        "\n",
        "A **chave** é um elemento único que identifica um valor no dicionário, enquanto o **valor** é o item que é armazenado para a chave. As chaves e os valores podem ser de **qualquer tipo de dado**.\n",
        "\n",
        "Os dicionários são úteis para armazenar e acessar dados de maneira organizada e rápida. Eles são um tipo de conjunto de elementos em Python, pois armazenam uma coleção de itens."
      ],
      "metadata": {
        "id": "PJ-cCKPjeWxL"
      }
    },
    {
      "cell_type": "code",
      "source": [
        "dicionario = {'chave_1':1,\n",
        "              'chave_2':2}\n",
        "dicionario"
      ],
      "metadata": {
        "colab": {
          "base_uri": "https://localhost:8080/"
        },
        "id": "6NssDIU-I7yd",
        "outputId": "d3c834e0-fd10-44b2-fc1a-80785a3f9ec7"
      },
      "execution_count": null,
      "outputs": [
        {
          "output_type": "execute_result",
          "data": {
            "text/plain": [
              "{'chave_1': 1, 'chave_2': 2}"
            ]
          },
          "metadata": {},
          "execution_count": 29
        }
      ]
    },
    {
      "cell_type": "markdown",
      "source": [
        "---\n",
        "**Situação:**\n",
        "\n",
        "Vamos criar um conjunto de dados com informações de matricula de um estudante. Os dados são os seguintes:\n",
        "\n",
        "- matricula: 2000168933\n",
        "- dia de cadastro: 25\n",
        "- mês de cadastro: 10\n",
        "- turma: 2E"
      ],
      "metadata": {
        "id": "_JbQ3KMKfkXU"
      }
    },
    {
      "cell_type": "code",
      "source": [
        "cadastro = {'matricula': 2000168933,\n",
        "            'dia_cadastro': 25,\n",
        "            'mes_cadastro': 10,\n",
        "            'turma': '2E'}\n",
        "cadastro"
      ],
      "metadata": {
        "colab": {
          "base_uri": "https://localhost:8080/"
        },
        "id": "tLPrLFX0JAY3",
        "outputId": "6bab5d1f-4ab2-46e9-d7b6-1fb009f72161"
      },
      "execution_count": null,
      "outputs": [
        {
          "output_type": "execute_result",
          "data": {
            "text/plain": [
              "{'matricula': 2000168933,\n",
              " 'dia_cadastro': 25,\n",
              " 'mes_cadastro': 10,\n",
              " 'turma': '2E'}"
            ]
          },
          "metadata": {},
          "execution_count": 3
        }
      ]
    },
    {
      "cell_type": "code",
      "source": [
        "cadastro['matricula']"
      ],
      "metadata": {
        "colab": {
          "base_uri": "https://localhost:8080/"
        },
        "id": "gMCMTjohJBuT",
        "outputId": "b6b112ac-1e39-4595-b918-23668252df5b"
      },
      "execution_count": null,
      "outputs": [
        {
          "output_type": "execute_result",
          "data": {
            "text/plain": [
              "2000168933"
            ]
          },
          "metadata": {},
          "execution_count": 4
        }
      ]
    },
    {
      "cell_type": "code",
      "source": [
        "cadastro['turma']"
      ],
      "metadata": {
        "colab": {
          "base_uri": "https://localhost:8080/",
          "height": 35
        },
        "id": "kRncI_tiJBoU",
        "outputId": "64ab2ff0-377f-451b-dc96-4928c6e5c496"
      },
      "execution_count": null,
      "outputs": [
        {
          "output_type": "execute_result",
          "data": {
            "text/plain": [
              "'2E'"
            ],
            "application/vnd.google.colaboratory.intrinsic+json": {
              "type": "string"
            }
          },
          "metadata": {},
          "execution_count": 32
        }
      ]
    },
    {
      "cell_type": "markdown",
      "source": [
        "É possível substituir os valores dentro de uma chave. Por exemplo, recebemos a informação que a turma do estudante que cadastramos foi trocada para `'2G'` e agora precisamos trocar o valor da chave `'turma'`."
      ],
      "metadata": {
        "id": "8ex5pt2ykDd2"
      }
    },
    {
      "cell_type": "code",
      "source": [
        "cadastro['turma'] = '2G'\n",
        "cadastro"
      ],
      "metadata": {
        "colab": {
          "base_uri": "https://localhost:8080/"
        },
        "id": "L5A3TmB7JEkW",
        "outputId": "ac35d96f-6d74-4a59-b6c8-f6ce7dcef032"
      },
      "execution_count": null,
      "outputs": [
        {
          "output_type": "execute_result",
          "data": {
            "text/plain": [
              "{'matricula': 2000168933,\n",
              " 'dia_cadastro': 25,\n",
              " 'mes_cadastro': 10,\n",
              " 'turma': '2G'}"
            ]
          },
          "metadata": {},
          "execution_count": 33
        }
      ]
    },
    {
      "cell_type": "markdown",
      "source": [
        "Podemos também adicionar outros dados ao dicionário. Vamos adicionar a informação de modalidade de ensino, nosso estudante atuará inicialmente em modalidade EAD.\n",
        "\n",
        "Então iremos definir uma chave chamada `'modalidade'` e o valor `'EAD'`."
      ],
      "metadata": {
        "id": "wB0qRb56mQvv"
      }
    },
    {
      "cell_type": "code",
      "source": [
        "cadastro['modalidade'] = 'EAD'\n",
        "cadastro"
      ],
      "metadata": {
        "colab": {
          "base_uri": "https://localhost:8080/"
        },
        "id": "VoiBc0sLJGl2",
        "outputId": "579ce671-bb95-4d2f-e428-a6ce064ad628"
      },
      "execution_count": null,
      "outputs": [
        {
          "output_type": "execute_result",
          "data": {
            "text/plain": [
              "{'matricula': 2000168933,\n",
              " 'dia_cadastro': 25,\n",
              " 'mes_cadastro': 10,\n",
              " 'turma': '2G',\n",
              " 'modalidade': 'EAD'}"
            ]
          },
          "metadata": {},
          "execution_count": 34
        }
      ]
    },
    {
      "cell_type": "markdown",
      "source": [
        "## Aprofundando em dicionários"
      ],
      "metadata": {
        "id": "LJ3o_inroxg_"
      }
    },
    {
      "cell_type": "markdown",
      "source": [
        "#### [`pop()`](https://python-reference.readthedocs.io/en/latest/docs/dict/pop.html)\n",
        "Remove um item de um dicionário e o retorna."
      ],
      "metadata": {
        "id": "2N3GLlkSpBiu"
      }
    },
    {
      "cell_type": "code",
      "source": [
        "cadastro.pop('turma')"
      ],
      "metadata": {
        "colab": {
          "base_uri": "https://localhost:8080/",
          "height": 35
        },
        "id": "VRQti1orJImd",
        "outputId": "80f2a97f-4daa-4f7d-a3ea-497a1e3da9ab"
      },
      "execution_count": null,
      "outputs": [
        {
          "output_type": "execute_result",
          "data": {
            "text/plain": [
              "'2G'"
            ],
            "application/vnd.google.colaboratory.intrinsic+json": {
              "type": "string"
            }
          },
          "metadata": {},
          "execution_count": 35
        }
      ]
    },
    {
      "cell_type": "code",
      "source": [
        "cadastro"
      ],
      "metadata": {
        "colab": {
          "base_uri": "https://localhost:8080/"
        },
        "id": "mZzq2ShlJJlh",
        "outputId": "bcc6c363-70cd-4be4-febc-25ac3ebc6943"
      },
      "execution_count": null,
      "outputs": [
        {
          "output_type": "execute_result",
          "data": {
            "text/plain": [
              "{'matricula': 2000168933,\n",
              " 'dia_cadastro': 25,\n",
              " 'mes_cadastro': 10,\n",
              " 'modalidade': 'EAD'}"
            ]
          },
          "metadata": {},
          "execution_count": 36
        }
      ]
    },
    {
      "cell_type": "markdown",
      "source": [
        "#### [`items()`](https://python-reference.readthedocs.io/en/latest/docs/dict/items.html)\n",
        "Retorna uma lista de pares chave-valor do dicionário."
      ],
      "metadata": {
        "id": "sYZGvJJYrW_y"
      }
    },
    {
      "cell_type": "code",
      "source": [
        "cadastro.items()"
      ],
      "metadata": {
        "colab": {
          "base_uri": "https://localhost:8080/"
        },
        "id": "ux8pzb0xJLLd",
        "outputId": "545369e2-6f3b-4694-afed-75701463d562"
      },
      "execution_count": null,
      "outputs": [
        {
          "output_type": "execute_result",
          "data": {
            "text/plain": [
              "dict_items([('matricula', 2000168933), ('dia_cadastro', 25), ('mes_cadastro', 10), ('turma', '2E')])"
            ]
          },
          "metadata": {},
          "execution_count": 5
        }
      ]
    },
    {
      "cell_type": "markdown",
      "source": [
        "#### [`keys()`](https://python-reference.readthedocs.io/en/latest/docs/dict/keys.html)\n",
        "Retorna uma lista das chaves do dicionário."
      ],
      "metadata": {
        "id": "Lb0utNFGrZBY"
      }
    },
    {
      "cell_type": "code",
      "source": [
        "cadastro.keys()"
      ],
      "metadata": {
        "colab": {
          "base_uri": "https://localhost:8080/"
        },
        "id": "igbXeBkEJMFA",
        "outputId": "ed22a9c3-c51d-4982-afa9-4a4c022beeed"
      },
      "execution_count": null,
      "outputs": [
        {
          "output_type": "execute_result",
          "data": {
            "text/plain": [
              "dict_keys(['matricula', 'dia_cadastro', 'mes_cadastro', 'turma'])"
            ]
          },
          "metadata": {},
          "execution_count": 6
        }
      ]
    },
    {
      "cell_type": "markdown",
      "source": [
        "#### [`values()`](https://python-reference.readthedocs.io/en/latest/docs/dict/values.html)\n",
        "Retorna uma lista dos valores do dicionário."
      ],
      "metadata": {
        "id": "qKyu3bf9rbtX"
      }
    },
    {
      "cell_type": "code",
      "source": [
        "cadastro.values()"
      ],
      "metadata": {
        "colab": {
          "base_uri": "https://localhost:8080/"
        },
        "id": "9STc5ArKJNEh",
        "outputId": "a0709ce8-d583-44cc-a419-d57fd40c9973"
      },
      "execution_count": null,
      "outputs": [
        {
          "output_type": "execute_result",
          "data": {
            "text/plain": [
              "dict_values([2000168933, 25, 10, 'EAD'])"
            ]
          },
          "metadata": {},
          "execution_count": 39
        }
      ]
    },
    {
      "cell_type": "markdown",
      "source": [
        "### Leitura de valores com `for`"
      ],
      "metadata": {
        "id": "e3XVjR8Frp75"
      }
    },
    {
      "cell_type": "code",
      "source": [
        "for chaves in cadastro.keys():\n",
        "  print(chaves)"
      ],
      "metadata": {
        "colab": {
          "base_uri": "https://localhost:8080/"
        },
        "id": "Wshe2p9IJR0N",
        "outputId": "1c2bc859-a9f9-4814-822a-11b0fdfc4743"
      },
      "execution_count": null,
      "outputs": [
        {
          "output_type": "stream",
          "name": "stdout",
          "text": [
            "matricula\n",
            "dia_cadastro\n",
            "mes_cadastro\n",
            "turma\n"
          ]
        }
      ]
    },
    {
      "cell_type": "code",
      "source": [
        "for chaves in cadastro.keys():\n",
        "  print(cadastro[chaves])\n",
        "\n",
        "#ou\n",
        "\n",
        "for valores in cadastro.values():\n",
        "  print(valores)"
      ],
      "metadata": {
        "colab": {
          "base_uri": "https://localhost:8080/"
        },
        "id": "ljRFCGQWJRt6",
        "outputId": "d9bfc87b-0ff8-49c1-f312-86b0a18c2cc6"
      },
      "execution_count": null,
      "outputs": [
        {
          "output_type": "stream",
          "name": "stdout",
          "text": [
            "2000168933\n",
            "25\n",
            "10\n",
            "2E\n",
            "2000168933\n",
            "25\n",
            "10\n",
            "2E\n"
          ]
        }
      ]
    },
    {
      "cell_type": "code",
      "source": [
        "for chaves, valores in cadastro.items():\n",
        "  print(chaves, valores)"
      ],
      "metadata": {
        "colab": {
          "base_uri": "https://localhost:8080/"
        },
        "id": "-OYRVP_sJRnw",
        "outputId": "ee7b6b64-e26c-4b90-b8ca-38de5cd48281"
      },
      "execution_count": null,
      "outputs": [
        {
          "output_type": "stream",
          "name": "stdout",
          "text": [
            "matricula 2000168933\n",
            "dia_cadastro 25\n",
            "mes_cadastro 10\n",
            "modalidade EAD\n"
          ]
        }
      ]
    },
    {
      "cell_type": "markdown",
      "source": [
        "# **Listas em dicionários**"
      ],
      "metadata": {
        "id": "B7MOUFipSxMi"
      }
    },
    {
      "cell_type": "code",
      "source": [
        "loja = {'nomes': ['televisão', 'celular', 'notebook', 'geladeira', 'fogão'],\n",
        "        'precos': [2000, 1500, 3500, 4000, 1500]}"
      ],
      "metadata": {
        "id": "jNtX59Nl1C4G"
      },
      "execution_count": null,
      "outputs": []
    },
    {
      "cell_type": "code",
      "source": [
        "#Para acessar os valores, podemos usar um agrupamento de laços for:\n",
        "\n",
        "for chave, elementos in loja.items():\n",
        "  print(f'Chave: {chave}\\nElementos:')\n",
        "  for dado in elementos:\n",
        "    print(dado)"
      ],
      "metadata": {
        "colab": {
          "base_uri": "https://localhost:8080/"
        },
        "id": "YAU2kZeeS6Wu",
        "outputId": "826804a9-dad4-4544-f842-77dd3e63390f"
      },
      "execution_count": null,
      "outputs": [
        {
          "output_type": "stream",
          "name": "stdout",
          "text": [
            "Chave: nomes\n",
            "Elementos:\n",
            "televisão\n",
            "celular\n",
            "notebook\n",
            "geladeira\n",
            "fogão\n",
            "Chave: precos\n",
            "Elementos:\n",
            "2000\n",
            "1500\n",
            "3500\n",
            "4000\n",
            "1500\n"
          ]
        }
      ]
    },
    {
      "cell_type": "markdown",
      "source": [
        "# Como somar?"
      ],
      "metadata": {
        "id": "ClqfD7gDTbSf"
      }
    },
    {
      "cell_type": "code",
      "source": [
        "precos = [100.0, 400.0, 200.0]\n",
        "soma = sum(precos)\n",
        "soma"
      ],
      "metadata": {
        "colab": {
          "base_uri": "https://localhost:8080/"
        },
        "id": "EiH_GRjtTfd7",
        "outputId": "c198638e-48c6-456c-d6f1-94edfcadf97c"
      },
      "execution_count": null,
      "outputs": [
        {
          "output_type": "execute_result",
          "data": {
            "text/plain": [
              "700.0"
            ]
          },
          "metadata": {},
          "execution_count": 12
        }
      ]
    },
    {
      "cell_type": "code",
      "source": [
        "#exercício 1\n",
        "# Dados de gastos\n",
        "gastos = [2172.54, 3701.35, 3518.09, 3456.61, 3249.38, 2840.82, 3891.45, 3075.26, 2317.64, 3219.08]\n",
        "\n",
        "# Calculamos a média encontrando o valor total de gastos com sum\n",
        "# e a quantidade total de compras realizadas com len\n",
        "total_gastos = sum(gastos)\n",
        "quantidade_compras = len(gastos)\n",
        "media_gastos = total_gastos / quantidade_compras\n",
        "# Resultado\n",
        "print(f'A média de gastos é {media_gastos} reais.')"
      ],
      "metadata": {
        "colab": {
          "base_uri": "https://localhost:8080/"
        },
        "id": "o8oyOfG16E8R",
        "outputId": "86ef7811-312e-4e28-e2ed-dc5967269ed8"
      },
      "execution_count": null,
      "outputs": [
        {
          "output_type": "stream",
          "name": "stdout",
          "text": [
            "A média de gastos é 3144.222 reais.\n"
          ]
        }
      ]
    },
    {
      "cell_type": "markdown",
      "source": [
        "2) Com os mesmos dados da questão anterior, defina quantas compras foram realizadas acima de 3000 reais e calcule a porcentagem quanto ao total de compras."
      ],
      "metadata": {
        "id": "s0vaKHVZ6ygo"
      }
    },
    {
      "cell_type": "code",
      "source": [
        "# Dados de gastos\n",
        "gastos = [2172.54, 3701.35, 3518.09, 3456.61, 3249.38, 2840.82, 3891.45, 3075.26, 2317.64, 3219.08]\n",
        "\n",
        "# Variável que vai contar quantas compras foram feitas acima de 3000\n",
        "contador_acima_3000 = 0\n",
        "\n",
        "# Usamos o laço para ler a lista de gastos\n",
        "for gasto in gastos:\n",
        "  # Verificamos se o elemento está acima de 3000\n",
        "  if gasto > 3000:\n",
        "    # Acrescentamos mais um no contador, caso tenha algum valor acima de 3000\n",
        "    contador_acima_3000 += 1\n",
        "\n",
        "# Quantidade Compras\n",
        "# Variável que vai ser utilizada para o cálculo da porcentagem\n",
        "quantidade_compras = len(gastos)\n",
        "\n",
        "\n",
        "# Com a contagem conseguimos calcular a porcentagem de valores acima de 3000 entre todas as compras\n",
        "porcentagem_acima_3000 = 100 * (contador_acima_3000) / (quantidade_compras)\n",
        "\n",
        "# Resultado\n",
        "print(f'De um total de {quantidade_compras} compras, {contador_acima_3000} compras foram acima de R$3000,00.')\n",
        "print(f'{porcentagem_acima_3000}% dos gastos foram acima de R$3000,00.')\n",
        "\n"
      ],
      "metadata": {
        "colab": {
          "base_uri": "https://localhost:8080/"
        },
        "id": "BmI4XTDN6k7l",
        "outputId": "199075e0-d901-4630-87f5-9bec18eda9a1"
      },
      "execution_count": null,
      "outputs": [
        {
          "output_type": "stream",
          "name": "stdout",
          "text": [
            "De um total de 10 compras, 7 compras foram acima de R$3000,00.\n",
            "70.0% dos gastos foram acima de R$3000,00.\n"
          ]
        }
      ]
    },
    {
      "cell_type": "markdown",
      "source": [
        "3) Faça um código que colete em uma lista 5 números inteiros quaisquer e imprima a lista. Exemplo: [1,4,7,2,4]."
      ],
      "metadata": {
        "id": "kCa34TYV7d6K"
      }
    },
    {
      "cell_type": "code",
      "source": [
        "#primeiro de tudo, precisa criar a lista vazia\n",
        "lista5 = []\n",
        "\n",
        "#depois, criar um laço para iterar 5x\n",
        "for i in range (0,5): #prestar atenção nas posições dentro da lista\n",
        "  numero = int(input('Digite um número inteiro: '))\n",
        "  lista5.append(numero)\n",
        "\n",
        "print(f'Lista dos números: {lista5}')"
      ],
      "metadata": {
        "colab": {
          "base_uri": "https://localhost:8080/"
        },
        "id": "SdJzKD-R7hUn",
        "outputId": "15900f5f-7803-45df-e50f-c3e1b3991d41"
      },
      "execution_count": null,
      "outputs": [
        {
          "output_type": "stream",
          "name": "stdout",
          "text": [
            "Digite um número inteiro: 2\n",
            "Digite um número inteiro: 3\n",
            "Digite um número inteiro: 5\n",
            "Digite um número inteiro: 8\n",
            "Digite um número inteiro: 9\n",
            "Lista dos números: [2, 3, 5, 8, 9]\n"
          ]
        }
      ]
    },
    {
      "cell_type": "markdown",
      "source": [
        "4) Colete novamente 5 inteiros e imprima a lista em ordem inversa à enviada."
      ],
      "metadata": {
        "id": "Sdl5Z3gy9J2C"
      }
    },
    {
      "cell_type": "code",
      "source": [
        "lista2 = []\n",
        "\n",
        "for j in range(0,5):\n",
        "  numero2 = int(input('Diz aí um número inteiro: '))\n",
        "  lista2.append(numero2)\n",
        "\n",
        "lista2.reverse()\n",
        "\n",
        "print(f'Lista dos números em ordem inversa: {lista2}')\n",
        "\n",
        "#ou:\n",
        "#print(f'Lista de números invertida: {lista_numeros[::-1]}')"
      ],
      "metadata": {
        "colab": {
          "base_uri": "https://localhost:8080/"
        },
        "id": "5_zdTQ1h9KnD",
        "outputId": "763ce797-bd95-4f21-f989-371ab4c3b7d7"
      },
      "execution_count": null,
      "outputs": [
        {
          "output_type": "stream",
          "name": "stdout",
          "text": [
            "Diz aí um número inteiro: 5\n",
            "Diz aí um número inteiro: 4\n",
            "Diz aí um número inteiro: 3\n",
            "Diz aí um número inteiro: 2\n",
            "Diz aí um número inteiro: 1\n",
            "Lista dos números em ordem inversa: [1, 2, 3, 4, 5]\n"
          ]
        }
      ]
    },
    {
      "cell_type": "markdown",
      "source": [
        "5) Faça um programa que, ao inserir um número qualquer, cria uma lista contendo todos os números primos entre 1 e o número digitado."
      ],
      "metadata": {
        "id": "ImqAvT25-83q"
      }
    },
    {
      "cell_type": "code",
      "source": [
        "#coletar os números\n",
        "numero = int(input('número blabla: '))\n",
        "\n",
        "#lista pra receber os numeros\n",
        "lista_primo = []\n",
        "\n",
        "for n in range(2, numero): #1 não é primo, então é a partir de 2\n",
        "  primo = True\n",
        "  for i in range(2, num):\n",
        "    if i % n == 0:\n",
        "      primo == False\n",
        "      break\n",
        "  if primo:\n",
        "    lista_primo.append(n)\n",
        "\n",
        "print(f'Lista de números primos: {lista_primos}')\n"
      ],
      "metadata": {
        "colab": {
          "base_uri": "https://localhost:8080/"
        },
        "id": "O_53ow6t_CBc",
        "outputId": "58b312c1-1694-48eb-ee95-e662ad8aa55a"
      },
      "execution_count": null,
      "outputs": [
        {
          "output_type": "stream",
          "name": "stdout",
          "text": [
            "número blabla: 58\n",
            "Lista de números primos: [2, 3, 5, 7, 11, 13, 17, 19, 23, 29, 31, 37, 41, 43, 47, 53]\n"
          ]
        }
      ]
    },
    {
      "cell_type": "markdown",
      "source": [
        "6) Escreva um programa que peça uma data informando o dia, mês e ano e determine se ela é válida para uma análise."
      ],
      "metadata": {
        "id": "aCAuObOA7rw8"
      }
    },
    {
      "cell_type": "code",
      "source": [
        "dia = int(input('Dia: '))\n",
        "mes = int(input('Mês: '))\n",
        "ano = int(input('Ano: '))\n",
        "\n",
        "#precisa analisar fevereiro\n",
        "if mes == 2:\n",
        "  if ano % 4 == 0:\n",
        "    dias_fevereiro = 29\n",
        "  else:\n",
        "    dias_fevereiro = 28\n",
        "  if dia >= 1 and dia <= dias_fevereiro:\n",
        "    print('Data válida')\n",
        "  else:\n",
        "    print('Data inválida')\n",
        "\n",
        "#analisar os meses que tem 31 dias\n",
        "elif mes in [1, 3, 5, 7, 8, 10, 12]:\n",
        "  if dia >= 1 and dia <= 31:\n",
        "    print('Data válida')\n",
        "  else:\n",
        "    print('Data inválida')\n",
        "\n",
        "#analisar os meses que tem 30 dias:\n",
        "elif mes in [4, 6, 9, 11]:\n",
        "  if dia >= 1 and dia <= 30:\n",
        "    print('Data válida')\n",
        "  else:\n",
        "    print('Data inválida')\n",
        "\n",
        "#caso o mês não esteja entre 1 e 12\n",
        "else:\n",
        "  print('Data inválida')"
      ],
      "metadata": {
        "colab": {
          "base_uri": "https://localhost:8080/"
        },
        "id": "SRSbxThc7uMN",
        "outputId": "7d0feaac-d781-40b0-9156-ebe8cee396bc"
      },
      "execution_count": null,
      "outputs": [
        {
          "output_type": "stream",
          "name": "stdout",
          "text": [
            "Dia: 32\n",
            "Mês: 2\n",
            "Ano: 2036\n",
            "Data inválida\n"
          ]
        }
      ]
    },
    {
      "cell_type": "markdown",
      "source": [
        "7) Para um estudo envolvendo o nível de multiplicação de bactérias em uma colônia, foi coletado o número de bactérias por dia (em milhares) e pode ser observado a seguir: [1.2, 2.1, 3.3, 5.0, 7.8, 11.3, 16.6, 25.1, 37.8, 56.9]. Tendo esses valores, faça um código que gere uma lista contendo o percentual de crescimento de bactérias por dia, comparando o número de bactérias em cada dia com o número de bactérias do dia anterior. Dica: para calcular o percentual de crescimento usamos a seguinte equação: 100 * (amostra_atual - amostra_passada) / (amostra_passada)."
      ],
      "metadata": {
        "id": "xjp5wyoTEN_6"
      }
    },
    {
      "cell_type": "code",
      "source": [
        "bac = [1.2, 2.1, 3.3, 5.0, 7.8, 11.3, 16.6, 25.1, 37.8, 56.9]\n",
        "porcent_cres = []\n",
        "\n",
        "for i in range(1, len(bac)):\n",
        "  porcent = 100*(bac[i] - bac[i-1])/bac[i-1]\n",
        "  porcent_cres.append(porcent)\n",
        "\n",
        "print(f'Porcentagens de crescimento: \\n{porcent_cres}')"
      ],
      "metadata": {
        "colab": {
          "base_uri": "https://localhost:8080/"
        },
        "id": "6P94xa-TEO58",
        "outputId": "dccf59cf-005c-48bc-be59-f9010f817256"
      },
      "execution_count": null,
      "outputs": [
        {
          "output_type": "stream",
          "name": "stdout",
          "text": [
            "Porcentagens de crescimento: \n",
            "[75.00000000000001, 57.142857142857125, 51.51515151515153, 56.0, 44.87179487179489, 46.90265486725664, 51.20481927710843, 50.59760956175297, 50.52910052910054]\n"
          ]
        }
      ]
    },
    {
      "cell_type": "markdown",
      "source": [
        "8) Para uma seleção de produtos alimentícios, precisamos separar o conjunto de IDs dados por números inteiros sabendo que os produtos com ID par são doces e os com ID ímpar são amargos. Monte um código que colete 10 IDs. Depois, calcule e mostre a quantidade de produtos doces e amargos."
      ],
      "metadata": {
        "id": "qEC3ZZtPF2Rj"
      }
    },
    {
      "cell_type": "code",
      "source": [
        "ids = []\n",
        "for n in range(0, 10):\n",
        "  coleta = int(input(f'ID {n + 1}: '))\n",
        "  ids.append(coleta)\n",
        "\n",
        "quant_doce = 0\n",
        "for doce in ids:\n",
        "  if doce % 2 == 0:\n",
        "    quant_doce += 1\n",
        "\n",
        "quant_amargo = 0\n",
        "for amargo in ids:\n",
        "  if amargo % 2 != 0:\n",
        "    quant_amargo += 1\n",
        "\n",
        "print(f'Quantidade de IDs doces: {quant_doce}')\n",
        "print(f'Quantidade de IDs amargos: {quant_amargo}')\n"
      ],
      "metadata": {
        "colab": {
          "base_uri": "https://localhost:8080/"
        },
        "id": "OloQDLL6F2-o",
        "outputId": "6caf359b-20a2-4586-8cb6-edbb92a6d2a7"
      },
      "execution_count": null,
      "outputs": [
        {
          "output_type": "stream",
          "name": "stdout",
          "text": [
            "ID 1: 1\n",
            "ID 2: 2\n",
            "ID 3: 12\n",
            "ID 4: 2\n",
            "ID 5: 2\n",
            "ID 6: 1\n",
            "ID 7: 1\n",
            "ID 8: 1\n",
            "ID 9: 1\n",
            "ID 10: 1\n",
            "Quantidade de IDs doces: 4\n",
            "Quantidade de IDs amargos: 6\n"
          ]
        }
      ]
    },
    {
      "cell_type": "markdown",
      "source": [
        "9) Desenvolva um programa que informa a nota de um(a) aluno(a) de acordo com suas respostas. Ele deve pedir a resposta desse(a) aluno(a) para cada questão e é preciso verificar se a resposta foi igual ao gabarito. Cada questão vale um ponto e existem as alternativas A, B, C ou D."
      ],
      "metadata": {
        "id": "lz5zqysCJZTT"
      }
    },
    {
      "cell_type": "code",
      "source": [
        "questoes = []\n",
        "for n in range(0, 10):\n",
        "  questoes.append(str(input(f'Digite a resposta da questão {n + 1}: ')))\n",
        "\n",
        "gabarito = ['D', 'A', 'C', 'B', 'A', 'D', 'C', 'C', 'A', 'B']\n",
        "\n",
        "resultado = 0\n",
        "\n",
        "for i in range(0, 10):\n",
        "  if questoes[i] == gabarito[i]:\n",
        "    resultado += 1\n",
        "\n",
        "print(f'Nota: {resultado}')\n"
      ],
      "metadata": {
        "colab": {
          "base_uri": "https://localhost:8080/"
        },
        "id": "6yKltpbGJbIW",
        "outputId": "7aa43328-6c60-461f-dcca-2abcc693aebc"
      },
      "execution_count": null,
      "outputs": [
        {
          "output_type": "stream",
          "name": "stdout",
          "text": [
            "Digite a resposta da questão 1: A\n",
            "Digite a resposta da questão 2: B\n",
            "Digite a resposta da questão 3: C\n",
            "Digite a resposta da questão 4: B\n",
            "Digite a resposta da questão 5: A\n",
            "Digite a resposta da questão 6: A\n",
            "Digite a resposta da questão 7: A\n",
            "Digite a resposta da questão 8: C\n",
            "Digite a resposta da questão 9: C\n",
            "Digite a resposta da questão 10: C\n",
            "Nota: 4\n"
          ]
        }
      ]
    },
    {
      "cell_type": "markdown",
      "source": [
        "10) Um instituto de meteorologia deseja fazer um estudo de temperatura média de cada mês do ano. Para isso, você precisa fazer um código que colete e armazene essas temperaturas médias em uma lista. Depois, calcule a média anual das temperaturas e mostre todas as temperaturas acima da média anual e em que mês elas ocorreram, mostrando os meses por extenso (Janeiro, Fevereiro, etc.)."
      ],
      "metadata": {
        "id": "-YZFtdJPMFSu"
      }
    },
    {
      "cell_type": "code",
      "source": [
        "temp_mes = []\n",
        "for n in range(0, 12):\n",
        "  temp_mes.append(float(input(f'Temperatura do mês {n + 1}: ')))\n",
        "\n",
        "media_ano = sum(temp_mes)/len(temp_mes)\n",
        "print(f'Temperatura média anual: {media_ano}')\n",
        "\n",
        "meses = ['Janeiro', 'Fevereiro', 'Março', 'Abril', 'Maio', 'Junho', 'Julho', 'Agosto', 'Setembro',\n",
        "         'Outubro', 'Novembro', 'Dezembro']\n",
        "\n",
        "temp_acima_media = []\n",
        "\n",
        "print('Meses com temperatura acima da média: ')\n",
        "\n",
        "for i in range(0, 12):\n",
        "  if temp_mes[i] > media_ano:\n",
        "    print(meses[i])"
      ],
      "metadata": {
        "colab": {
          "base_uri": "https://localhost:8080/"
        },
        "id": "BEL8rLvFMGBw",
        "outputId": "403e1053-80d8-41c2-aef9-835b2697ea7f"
      },
      "execution_count": null,
      "outputs": [
        {
          "output_type": "stream",
          "name": "stdout",
          "text": [
            "Temperatura do mês 1: 1\n",
            "Temperatura do mês 2: 2\n",
            "Temperatura do mês 3: 3\n",
            "Temperatura do mês 4: 1\n",
            "Temperatura do mês 5: 45\n",
            "Temperatura do mês 6: 12\n",
            "Temperatura do mês 7: 5\n",
            "Temperatura do mês 8: 1\n",
            "Temperatura do mês 9: 4\n",
            "Temperatura do mês 10: 89\n",
            "Temperatura do mês 11: 2\n",
            "Temperatura do mês 12: 1\n",
            "Temperatura média anual: 13.833333333333334\n",
            "Meses com temperatura acima da média: \n",
            "Maio\n",
            "Outubro\n"
          ]
        }
      ]
    },
    {
      "cell_type": "markdown",
      "source": [
        "11) Uma empresa de e-commerce está interessada em analisar as vendas dos seus produtos. Os dados das vendas foram armazenados em um dicionário:\n",
        "\n",
        "{'Produto A': 300, 'Produto B': 80, 'Produto C': 60,\n",
        " 'Produto D': 200, 'Produto E': 250, 'Produto F': 30}\n",
        "\n",
        "Escreva um código que calcule o total de vendas e o produto mais vendido."
      ],
      "metadata": {
        "id": "u9yyfufQQycB"
      }
    },
    {
      "cell_type": "code",
      "source": [
        "vendas = {'Produto A': 300, 'Produto B': 80, 'Produto C': 60, 'Produto D': 1200, 'Produto E': 250, 'Produto F': 30}\n",
        "\n",
        "total = sum(vendas.values())\n",
        "\n",
        "produto_mais_vendido = ''\n",
        "unidades_produto_mais_vendido = 0\n",
        "\n",
        "for produto in vendas.keys():\n",
        "  # Verificamos se valor de venda atual (vendas[produto]) é maior que o valor armazenado em unidades_produto_mais_vendido\n",
        "  # Cada vez que vendas[produto] superar o valor em unidades_produto_mais_vendido,\n",
        "  # a variável unidades_produto_mais_vendido vai ser igual à vendas[produto], atribuindo um novo valor\n",
        "  # De forma similar, produto_mais_vendido também é substituído pelo produto atual\n",
        "  if vendas[produto] > unidades_produto_mais_vendido:\n",
        "    unidades_produto_mais_vendido = vendas[produto]\n",
        "    produto_mais_vendido = produto\n",
        "\n",
        "print(f'Total de vendas: {total}')\n",
        "print(f'{produto_mais_vendido} é o mais vendido')\n",
        "\n"
      ],
      "metadata": {
        "colab": {
          "base_uri": "https://localhost:8080/"
        },
        "id": "I68BJhQqQ5db",
        "outputId": "0d59ead9-2569-4f76-bec9-cb6f5f1456e8"
      },
      "execution_count": null,
      "outputs": [
        {
          "output_type": "stream",
          "name": "stdout",
          "text": [
            "Total de vendas: 1920\n",
            "Produto D é o mais vendido\n"
          ]
        }
      ]
    },
    {
      "cell_type": "markdown",
      "source": [
        "12) Uma pesquisa de mercado foi feita para decidir qual design de marca infantil mais agrada as crianças. A pesquisa foi feita e o votos computados podem ser observados abaixo:\n",
        "\n",
        "'''\n",
        "Tabela de votos da marca\n",
        "Design 1 - 1334 votos\n",
        "Design 2 - 982 votos\n",
        "Design 3 - 1751 votos\n",
        "Design 4 - 210 votos\n",
        "Design 5 - 1811 votos\n",
        "'''\n",
        "\n",
        "Adapte os dados fornecidos para uma estrutura de dicionário. A partir dele, informe o design vencedor e a porcentagem de votos recebidos."
      ],
      "metadata": {
        "id": "NzYSbN0rwb_m"
      }
    },
    {
      "cell_type": "code",
      "source": [
        "votacao = {'Design 1': 1334, 'Design 2': 982, 'Design 3': 1751, 'Design 4': 210, 'Design 5': 1811}\n",
        "\n",
        "total = sum(votacao.values())\n",
        "\n",
        "design_mais_votado = ''\n",
        "votos_design_mais_votado = 0\n",
        "\n",
        "for voto in votacao.keys():\n",
        "  if votacao[voto] > votos_design_mais_votado:\n",
        "    votos_design_mais_votado = votacao[voto]\n",
        "    design_mais_votado = voto\n",
        "\n",
        "#porcentagem\n",
        "porcent = 100* (votos_design_mais_votado/total)\n",
        "\n",
        "print(f'{design_mais_votado} é o vencedor com {porcent: .2f}% dos votos') #.2f é o número de casas decimais\n"
      ],
      "metadata": {
        "colab": {
          "base_uri": "https://localhost:8080/"
        },
        "id": "KAuhFPNMwcs3",
        "outputId": "51c2fc1b-0cca-4029-855d-ccadcd3e8972"
      },
      "execution_count": null,
      "outputs": [
        {
          "output_type": "stream",
          "name": "stdout",
          "text": [
            "Design 5 é o vencedor com  29.75% dos votos\n"
          ]
        }
      ]
    },
    {
      "cell_type": "markdown",
      "source": [
        "13) As pessoas colaboradoras de um setor da empresa que você trabalha vão receber um abono correspondente a 10% do salário devido ao ótimo desempenho do time. O setor financeiro solicitou sua ajuda para a verificação das consequências financeiras que esse abono irá gerar nos recursos. Assim, foi encaminhada para você uma lista com os salários que receberão o abono: [1172, 1644, 2617, 5130, 5532, 6341, 6650, 7238, 7685, 7782, 7903]. O abono de cada colaborador(a) não pode ser inferior a 200. Em código, transforme cada um dos salários em chaves de um dicionário e o abono de cada salário no elemento. Depois, informe o total de gastos com o abono, quantos(as) colaboradores(as) receberam o abono mínimo e qual o maior valor de abono fornecido."
      ],
      "metadata": {
        "id": "wovZv2TZz6IG"
      }
    },
    {
      "cell_type": "code",
      "source": [
        "salarios = [1172, 1644, 2617, 5130, 5532, 6341, 6650, 7238, 7685, 7782, 7903]\n",
        "\n",
        "#variáveis\n",
        "dic_abonos = {} #dicionário\n",
        "total_abonos = 0\n",
        "min_abono = 0\n",
        "maior_abono = 0\n",
        "\n",
        "for salario in salarios:\n",
        "  abono = salario * 0.1\n",
        "  if abono < 200:\n",
        "    abono = 200\n",
        "  abono = round(abono, 1) #arrendondando para 2 casas decimais\n",
        "  dic_abonos[salario] = abono\n",
        "\n",
        "for abono in dic_abonos.values():\n",
        "  if abono == 200: #abono mínimo\n",
        "    min_abono += 1\n",
        "  # Verificamos se o abono lido é maior que o valor armazenado em maior_abono\n",
        "  # Cada vez que o abono superar o valor de maior_abono,\n",
        "  # a variável maior_abono vai ser igual à abono, atribuindo um novo valor\n",
        "  if abono > maior_abono:\n",
        "    maior_abono = abono\n",
        "  #total de abonos\n",
        "  total_abonos += abono\n",
        "\n",
        "for salario, abono in dic_abonos.items():\n",
        "    print(f\"Salário: {salario}, Abono: {abono:.2f}\")\n",
        "\n",
        "print(f'Total de gasto com abonos: {total_abonos: .2f}')\n",
        "print(f'Número de funcionários que receberam o abono mínimo: {min_abono}')\n",
        "print(f'Maior valor de abono: {maior_abono: .2f}')\n"
      ],
      "metadata": {
        "colab": {
          "base_uri": "https://localhost:8080/"
        },
        "id": "Mgrx6CEZz8HA",
        "outputId": "e383344f-dfc1-4b50-df37-695ce3f67fff"
      },
      "execution_count": null,
      "outputs": [
        {
          "output_type": "stream",
          "name": "stdout",
          "text": [
            "Salário: 1172, Abono: 200.00\n",
            "Salário: 1644, Abono: 200.00\n",
            "Salário: 2617, Abono: 261.70\n",
            "Salário: 5130, Abono: 513.00\n",
            "Salário: 5532, Abono: 553.20\n",
            "Salário: 6341, Abono: 634.10\n",
            "Salário: 6650, Abono: 665.00\n",
            "Salário: 7238, Abono: 723.80\n",
            "Salário: 7685, Abono: 768.50\n",
            "Salário: 7782, Abono: 778.20\n",
            "Salário: 7903, Abono: 790.30\n",
            "Total de gasto com abonos:  6087.80\n",
            "Número de funcionários que receberam o abono mínimo: 2\n",
            "Maior valor de abono:  790.30\n"
          ]
        }
      ]
    },
    {
      "cell_type": "markdown",
      "source": [
        "14) Uma equipe de cientistas de dados está estudando a diversidade biológica em uma floresta. A equipe fez a coleta de informações sobre o número de espécies de plantas e animais em cada área dessa floresta e armazenou essas informações em um dicionário. Nele, a chave descreve a área dos dados e os valores nas listas correspondem às espécies de plantas e animais nas áreas, respectivamente.\n",
        "\n",
        "{'Área Norte': [2819, 7236],\n",
        " 'Área Leste': [1440, 9492],\n",
        " 'Área Sul': [5969, 7496],\n",
        " 'Área Oeste': [14446, 49688],\n",
        " 'Área Centro': [22558, 45148]}\n",
        "\n",
        "Escreva um código para calcular a média de espécies por área e identificar a área com a maior diversidade biológica. Dica: use as funções built-in sum() e len()."
      ],
      "metadata": {
        "id": "ojrSUpcN1H-A"
      }
    },
    {
      "cell_type": "code",
      "source": [
        "dados = {'Área Norte': [2819, 7236],\n",
        "         'Área Leste': [1440, 9492],\n",
        "         'Área Sul': [5969, 7496],\n",
        "         'Área Oeste': [14446, 49688],\n",
        "         'Área Centro': [22558, 45148]}\n",
        "\n",
        "# Inicializamos as variáveis\n",
        "soma_media = 0 # Irá somar todas as médias\n",
        "maior_diversidade = '' # Irá armazenar a área com maior diversidade\n",
        "maior_soma = 0 # Irá armazenar a maior soma de espécies\n",
        "\n",
        "# Percorremos os valores de chaves e elementos do dicionário\n",
        "for area, especies in dados.items():\n",
        "  soma_especies = sum(especies)\n",
        "  media = soma_especies / len(especies)\n",
        "  print(f'A {area} tem a média de {media} espécies')\n",
        "  # Verificamos se a soma das espécies é maior que o valor armazenado de maior_soma\n",
        "  # Cada vez que a soma_especies superar o valor de maior_soma,\n",
        "  # a variável maior_soma vai ser igual à soma_especies, atribuindo um novo valor\n",
        "  # De forma similar, maior_diversidade também é substituída\n",
        "  if soma_especies > maior_soma:\n",
        "      maior_soma = soma_especies\n",
        "      maior_diversidade = area\n",
        "  # Somamos as médias\n",
        "  soma_media += media\n",
        "# A média total será dada pela soma_media dividida pela quantidade de áreas\n",
        "media_total = soma_media / len(dados)\n",
        "print(f'Média geral de espécies: {media_total: .1f}')\n",
        "print(f'Área com a maior diversidade biológica: {maior_diversidade}')"
      ],
      "metadata": {
        "colab": {
          "base_uri": "https://localhost:8080/"
        },
        "id": "633QywG21Ma5",
        "outputId": "2d49acaa-1777-4bc7-a3aa-92ee37ae0a7f"
      },
      "execution_count": null,
      "outputs": [
        {
          "output_type": "stream",
          "name": "stdout",
          "text": [
            "A Área Norte tem a média de 5027.5 espécies\n",
            "A Área Leste tem a média de 5466.0 espécies\n",
            "A Área Sul tem a média de 6732.5 espécies\n",
            "A Área Oeste tem a média de 32067.0 espécies\n",
            "A Área Centro tem a média de 33853.0 espécies\n",
            "Média geral de espécies:  16629.2\n",
            "Área com a maior diversidade biológica: Área Centro\n"
          ]
        }
      ]
    },
    {
      "cell_type": "markdown",
      "source": [
        "15) O setor de RH da sua empresa te pediu uma ajuda para analisar as idades de colaboradores(as) de 4 setores da empresa. Para isso, foram fornecidos os seguintes dados:\n",
        "\n",
        "{'Setor A': [22, 26, 30, 30, 35, 38, 40, 56, 57, 65],\n",
        " 'Setor B': [22, 24, 26, 33, 41, 49, 50, 54, 60, 64],\n",
        " 'Setor C': [23, 26, 26, 29, 34, 35, 36, 41, 52, 56],\n",
        " 'Setor D': [19, 20, 25, 27, 34, 39, 42, 44, 50, 65]}\n",
        "\n",
        "Sabendo que cada setor tem 10 colaboradores(as), construa um código que calcule a média de idade de cada setor, a idade média geral entre todos os setores e quantas pessoas estão acima da idade média geral."
      ],
      "metadata": {
        "id": "ZEMQaOx_1M4w"
      }
    },
    {
      "cell_type": "code",
      "source": [
        "dados = {'Setor A': [22, 26, 30, 30, 35, 38, 40, 56, 57, 65],\n",
        "        'Setor B': [22, 24, 26, 33, 41, 49, 50, 54, 60, 64],\n",
        "        'Setor C': [23, 26, 26, 29, 34, 35, 36, 41, 52, 56],\n",
        "        'Setor D': [19, 20, 25, 27, 34, 39, 42, 44, 50, 65]}\n",
        "\n",
        "# Inicializamos a variável que irá somar todas as idades\n",
        "total_idades = 0\n",
        "# Percorremos os valores de chaves e elementos do dicionário\n",
        "for setor, idades in dados.items():\n",
        "  # Calculamos a média dividindo a soma das idades pela quantidade funcionários em cada setor\n",
        "  media_idade = sum(idades) / len(idades)\n",
        "  # Imprimimos\n",
        "  print(f'O {setor} tem a média de {media_idade}')\n",
        "  # Somamos as médias\n",
        "  total_idades += sum(idades)\n",
        "# A média total será dada pela total_idades dividida pela quantidade de pessoas totais (setores * funcionários por setor)\n",
        "media_total = total_idades / (len(idades) * len(dados))\n",
        "print(f'A média de idade geral é {media_total: .1f}')\n",
        "\n",
        "# Inicializamos a variável que irá contar todas pessoas com idade acima da média\n",
        "acima_media = 0\n",
        "# Percorremos novamente os valores de chaves e elementos do dicionário\n",
        "for setor, idades in dados.items():\n",
        "  # Lemos os elementos (idades) dentro de cada lista de idades no dicionário\n",
        "  for id in idades:\n",
        "    # Verificamos se o valor da idade é superior à média total\n",
        "    if id > media_total:\n",
        "      # Caso o valor da idade seja superior à média, incrementamos mais um no contador\n",
        "      acima_media += 1\n",
        "# Resultado\n",
        "print(f'{acima_media} pessoas estão acima da idade média geral')"
      ],
      "metadata": {
        "colab": {
          "base_uri": "https://localhost:8080/"
        },
        "id": "VeSgeb-c1QNM",
        "outputId": "e5d2bd7d-92b2-499a-bda5-acff8f1ea36e"
      },
      "execution_count": null,
      "outputs": [
        {
          "output_type": "stream",
          "name": "stdout",
          "text": [
            "O Setor A tem a média de 39.9\n",
            "O Setor B tem a média de 42.3\n",
            "O Setor C tem a média de 35.8\n",
            "O Setor D tem a média de 36.5\n",
            "A média de idade geral é  38.6\n",
            "18 pessoas estão acima da idade média geral\n"
          ]
        }
      ]
    }
  ]
}